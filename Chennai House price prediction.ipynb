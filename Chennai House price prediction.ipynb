{
 "cells": [
  {
   "cell_type": "markdown",
   "id": "cec8fa47",
   "metadata": {},
   "source": [
    "Chennai House Price Prediction\n"
   ]
  },
  {
   "cell_type": "markdown",
   "id": "5ebe14c4",
   "metadata": {},
   "source": [
    "Dataset to downloaded from the below link - https://drive.google.com/file/d/1hqlG0IqJh87-GiMNL_KAtbtZppMO07Hb/view?usp=sharing"
   ]
  },
  {
   "cell_type": "markdown",
   "id": "5940fd49",
   "metadata": {},
   "source": [
    "Problem Statement"
   ]
  },
  {
   "cell_type": "markdown",
   "id": "01a2b969",
   "metadata": {},
   "source": [
    "Real estate transactions are quite opaque sometimes and it may be difficult for a newbie to know the fair price of any given home. Thus, multiple real estate websites have the functionality to predict the prices of houses given different features regarding it. Such forecasting models will help buyers to identify a fair price for the home and also give insights to sellers as to how to build homes that fetch them more money. Chennai house sale price data is shared here and the participants are expected to build a sale price prediction model that will aid the customers to find a fair price for their homes and also help the sellers understand what factors are fetching more money for the houses?"
   ]
  },
  {
   "cell_type": "markdown",
   "id": "3a021933",
   "metadata": {},
   "source": [
    "Lifecycle\n",
    "\n",
    "1.Data Analysis\n",
    "2.Feature Engineering\n",
    "3.Feature Selection\n",
    "4.Model Building"
   ]
  },
  {
   "cell_type": "markdown",
   "id": "07028605",
   "metadata": {},
   "source": [
    "Import Libraries"
   ]
  },
  {
   "cell_type": "code",
   "execution_count": 3,
   "id": "b919bb95",
   "metadata": {},
   "outputs": [],
   "source": [
    "import pandas as pd\n",
    "import numpy as np\n",
    "import matplotlib.pyplot as plt\n",
    "%matplotlib inline\n",
    "import seaborn as sns\n",
    "pd.pandas.set_option('display.max_columns',None)"
   ]
  },
  {
   "cell_type": "code",
   "execution_count": 4,
   "id": "e3cadd01",
   "metadata": {},
   "outputs": [
    {
     "name": "stdout",
     "output_type": "stream",
     "text": [
      "(7109, 22)\n"
     ]
    }
   ],
   "source": [
    "dataset=pd.read_csv('train-chennai-sale.csv')\n",
    "\n",
    "print(dataset.shape)"
   ]
  },
  {
   "cell_type": "code",
   "execution_count": 5,
   "id": "995dca2e",
   "metadata": {},
   "outputs": [
    {
     "data": {
      "text/html": [
       "<div>\n",
       "<style scoped>\n",
       "    .dataframe tbody tr th:only-of-type {\n",
       "        vertical-align: middle;\n",
       "    }\n",
       "\n",
       "    .dataframe tbody tr th {\n",
       "        vertical-align: top;\n",
       "    }\n",
       "\n",
       "    .dataframe thead th {\n",
       "        text-align: right;\n",
       "    }\n",
       "</style>\n",
       "<table border=\"1\" class=\"dataframe\">\n",
       "  <thead>\n",
       "    <tr style=\"text-align: right;\">\n",
       "      <th></th>\n",
       "      <th>PRT_ID</th>\n",
       "      <th>AREA</th>\n",
       "      <th>INT_SQFT</th>\n",
       "      <th>DATE_SALE</th>\n",
       "      <th>DIST_MAINROAD</th>\n",
       "      <th>N_BEDROOM</th>\n",
       "      <th>N_BATHROOM</th>\n",
       "      <th>N_ROOM</th>\n",
       "      <th>SALE_COND</th>\n",
       "      <th>PARK_FACIL</th>\n",
       "      <th>DATE_BUILD</th>\n",
       "      <th>BUILDTYPE</th>\n",
       "      <th>UTILITY_AVAIL</th>\n",
       "      <th>STREET</th>\n",
       "      <th>MZZONE</th>\n",
       "      <th>QS_ROOMS</th>\n",
       "      <th>QS_BATHROOM</th>\n",
       "      <th>QS_BEDROOM</th>\n",
       "      <th>QS_OVERALL</th>\n",
       "      <th>REG_FEE</th>\n",
       "      <th>COMMIS</th>\n",
       "      <th>SALES_PRICE</th>\n",
       "    </tr>\n",
       "  </thead>\n",
       "  <tbody>\n",
       "    <tr>\n",
       "      <th>0</th>\n",
       "      <td>P03210</td>\n",
       "      <td>Karapakkam</td>\n",
       "      <td>1004</td>\n",
       "      <td>04-05-2011</td>\n",
       "      <td>131</td>\n",
       "      <td>1.0</td>\n",
       "      <td>1.0</td>\n",
       "      <td>3</td>\n",
       "      <td>AbNormal</td>\n",
       "      <td>Yes</td>\n",
       "      <td>15-05-1967</td>\n",
       "      <td>Commercial</td>\n",
       "      <td>AllPub</td>\n",
       "      <td>Paved</td>\n",
       "      <td>A</td>\n",
       "      <td>4.0</td>\n",
       "      <td>3.9</td>\n",
       "      <td>4.9</td>\n",
       "      <td>4.330</td>\n",
       "      <td>380000</td>\n",
       "      <td>144400</td>\n",
       "      <td>7600000</td>\n",
       "    </tr>\n",
       "    <tr>\n",
       "      <th>1</th>\n",
       "      <td>P09411</td>\n",
       "      <td>Anna Nagar</td>\n",
       "      <td>1986</td>\n",
       "      <td>19-12-2006</td>\n",
       "      <td>26</td>\n",
       "      <td>2.0</td>\n",
       "      <td>1.0</td>\n",
       "      <td>5</td>\n",
       "      <td>AbNormal</td>\n",
       "      <td>No</td>\n",
       "      <td>22-12-1995</td>\n",
       "      <td>Commercial</td>\n",
       "      <td>AllPub</td>\n",
       "      <td>Gravel</td>\n",
       "      <td>RH</td>\n",
       "      <td>4.9</td>\n",
       "      <td>4.2</td>\n",
       "      <td>2.5</td>\n",
       "      <td>3.765</td>\n",
       "      <td>760122</td>\n",
       "      <td>304049</td>\n",
       "      <td>21717770</td>\n",
       "    </tr>\n",
       "    <tr>\n",
       "      <th>2</th>\n",
       "      <td>P01812</td>\n",
       "      <td>Adyar</td>\n",
       "      <td>909</td>\n",
       "      <td>04-02-2012</td>\n",
       "      <td>70</td>\n",
       "      <td>1.0</td>\n",
       "      <td>1.0</td>\n",
       "      <td>3</td>\n",
       "      <td>AbNormal</td>\n",
       "      <td>Yes</td>\n",
       "      <td>09-02-1992</td>\n",
       "      <td>Commercial</td>\n",
       "      <td>ELO</td>\n",
       "      <td>Gravel</td>\n",
       "      <td>RL</td>\n",
       "      <td>4.1</td>\n",
       "      <td>3.8</td>\n",
       "      <td>2.2</td>\n",
       "      <td>3.090</td>\n",
       "      <td>421094</td>\n",
       "      <td>92114</td>\n",
       "      <td>13159200</td>\n",
       "    </tr>\n",
       "    <tr>\n",
       "      <th>3</th>\n",
       "      <td>P05346</td>\n",
       "      <td>Velachery</td>\n",
       "      <td>1855</td>\n",
       "      <td>13-03-2010</td>\n",
       "      <td>14</td>\n",
       "      <td>3.0</td>\n",
       "      <td>2.0</td>\n",
       "      <td>5</td>\n",
       "      <td>Family</td>\n",
       "      <td>No</td>\n",
       "      <td>18-03-1988</td>\n",
       "      <td>Others</td>\n",
       "      <td>NoSewr</td>\n",
       "      <td>Paved</td>\n",
       "      <td>I</td>\n",
       "      <td>4.7</td>\n",
       "      <td>3.9</td>\n",
       "      <td>3.6</td>\n",
       "      <td>4.010</td>\n",
       "      <td>356321</td>\n",
       "      <td>77042</td>\n",
       "      <td>9630290</td>\n",
       "    </tr>\n",
       "    <tr>\n",
       "      <th>4</th>\n",
       "      <td>P06210</td>\n",
       "      <td>Karapakkam</td>\n",
       "      <td>1226</td>\n",
       "      <td>05-10-2009</td>\n",
       "      <td>84</td>\n",
       "      <td>1.0</td>\n",
       "      <td>1.0</td>\n",
       "      <td>3</td>\n",
       "      <td>AbNormal</td>\n",
       "      <td>Yes</td>\n",
       "      <td>13-10-1979</td>\n",
       "      <td>Others</td>\n",
       "      <td>AllPub</td>\n",
       "      <td>Gravel</td>\n",
       "      <td>C</td>\n",
       "      <td>3.0</td>\n",
       "      <td>2.5</td>\n",
       "      <td>4.1</td>\n",
       "      <td>3.290</td>\n",
       "      <td>237000</td>\n",
       "      <td>74063</td>\n",
       "      <td>7406250</td>\n",
       "    </tr>\n",
       "  </tbody>\n",
       "</table>\n",
       "</div>"
      ],
      "text/plain": [
       "   PRT_ID        AREA  INT_SQFT   DATE_SALE  DIST_MAINROAD  N_BEDROOM  \\\n",
       "0  P03210  Karapakkam      1004  04-05-2011            131        1.0   \n",
       "1  P09411  Anna Nagar      1986  19-12-2006             26        2.0   \n",
       "2  P01812       Adyar       909  04-02-2012             70        1.0   \n",
       "3  P05346   Velachery      1855  13-03-2010             14        3.0   \n",
       "4  P06210  Karapakkam      1226  05-10-2009             84        1.0   \n",
       "\n",
       "   N_BATHROOM  N_ROOM SALE_COND PARK_FACIL  DATE_BUILD   BUILDTYPE  \\\n",
       "0         1.0       3  AbNormal        Yes  15-05-1967  Commercial   \n",
       "1         1.0       5  AbNormal         No  22-12-1995  Commercial   \n",
       "2         1.0       3  AbNormal        Yes  09-02-1992  Commercial   \n",
       "3         2.0       5    Family         No  18-03-1988      Others   \n",
       "4         1.0       3  AbNormal        Yes  13-10-1979      Others   \n",
       "\n",
       "  UTILITY_AVAIL  STREET MZZONE  QS_ROOMS  QS_BATHROOM  QS_BEDROOM  QS_OVERALL  \\\n",
       "0        AllPub   Paved      A       4.0          3.9         4.9       4.330   \n",
       "1        AllPub  Gravel     RH       4.9          4.2         2.5       3.765   \n",
       "2           ELO  Gravel     RL       4.1          3.8         2.2       3.090   \n",
       "3       NoSewr    Paved      I       4.7          3.9         3.6       4.010   \n",
       "4        AllPub  Gravel      C       3.0          2.5         4.1       3.290   \n",
       "\n",
       "   REG_FEE  COMMIS  SALES_PRICE  \n",
       "0   380000  144400      7600000  \n",
       "1   760122  304049     21717770  \n",
       "2   421094   92114     13159200  \n",
       "3   356321   77042      9630290  \n",
       "4   237000   74063      7406250  "
      ]
     },
     "execution_count": 5,
     "metadata": {},
     "output_type": "execute_result"
    }
   ],
   "source": [
    "dataset.head()"
   ]
  },
  {
   "cell_type": "code",
   "execution_count": 6,
   "id": "1db78ea5",
   "metadata": {},
   "outputs": [
    {
     "name": "stdout",
     "output_type": "stream",
     "text": [
      "<class 'pandas.core.frame.DataFrame'>\n",
      "RangeIndex: 7109 entries, 0 to 7108\n",
      "Data columns (total 22 columns):\n",
      " #   Column         Non-Null Count  Dtype  \n",
      "---  ------         --------------  -----  \n",
      " 0   PRT_ID         7109 non-null   object \n",
      " 1   AREA           7109 non-null   object \n",
      " 2   INT_SQFT       7109 non-null   int64  \n",
      " 3   DATE_SALE      7109 non-null   object \n",
      " 4   DIST_MAINROAD  7109 non-null   int64  \n",
      " 5   N_BEDROOM      7108 non-null   float64\n",
      " 6   N_BATHROOM     7104 non-null   float64\n",
      " 7   N_ROOM         7109 non-null   int64  \n",
      " 8   SALE_COND      7109 non-null   object \n",
      " 9   PARK_FACIL     7109 non-null   object \n",
      " 10  DATE_BUILD     7109 non-null   object \n",
      " 11  BUILDTYPE      7109 non-null   object \n",
      " 12  UTILITY_AVAIL  7109 non-null   object \n",
      " 13  STREET         7109 non-null   object \n",
      " 14  MZZONE         7109 non-null   object \n",
      " 15  QS_ROOMS       7109 non-null   float64\n",
      " 16  QS_BATHROOM    7109 non-null   float64\n",
      " 17  QS_BEDROOM     7109 non-null   float64\n",
      " 18  QS_OVERALL     7061 non-null   float64\n",
      " 19  REG_FEE        7109 non-null   int64  \n",
      " 20  COMMIS         7109 non-null   int64  \n",
      " 21  SALES_PRICE    7109 non-null   int64  \n",
      "dtypes: float64(6), int64(6), object(10)\n",
      "memory usage: 944.2+ KB\n"
     ]
    }
   ],
   "source": [
    "dataset.info()"
   ]
  },
  {
   "cell_type": "code",
   "execution_count": 7,
   "id": "074df76d",
   "metadata": {},
   "outputs": [
    {
     "data": {
      "text/html": [
       "<div>\n",
       "<style scoped>\n",
       "    .dataframe tbody tr th:only-of-type {\n",
       "        vertical-align: middle;\n",
       "    }\n",
       "\n",
       "    .dataframe tbody tr th {\n",
       "        vertical-align: top;\n",
       "    }\n",
       "\n",
       "    .dataframe thead th {\n",
       "        text-align: right;\n",
       "    }\n",
       "</style>\n",
       "<table border=\"1\" class=\"dataframe\">\n",
       "  <thead>\n",
       "    <tr style=\"text-align: right;\">\n",
       "      <th></th>\n",
       "      <th>INT_SQFT</th>\n",
       "      <th>DIST_MAINROAD</th>\n",
       "      <th>N_BEDROOM</th>\n",
       "      <th>N_BATHROOM</th>\n",
       "      <th>N_ROOM</th>\n",
       "      <th>QS_ROOMS</th>\n",
       "      <th>QS_BATHROOM</th>\n",
       "      <th>QS_BEDROOM</th>\n",
       "      <th>QS_OVERALL</th>\n",
       "      <th>REG_FEE</th>\n",
       "      <th>COMMIS</th>\n",
       "      <th>SALES_PRICE</th>\n",
       "    </tr>\n",
       "  </thead>\n",
       "  <tbody>\n",
       "    <tr>\n",
       "      <th>count</th>\n",
       "      <td>7109.000000</td>\n",
       "      <td>7109.000000</td>\n",
       "      <td>7108.000000</td>\n",
       "      <td>7104.000000</td>\n",
       "      <td>7109.000000</td>\n",
       "      <td>7109.000000</td>\n",
       "      <td>7109.000000</td>\n",
       "      <td>7109.000000</td>\n",
       "      <td>7061.000000</td>\n",
       "      <td>7109.000000</td>\n",
       "      <td>7109.000000</td>\n",
       "      <td>7.109000e+03</td>\n",
       "    </tr>\n",
       "    <tr>\n",
       "      <th>mean</th>\n",
       "      <td>1382.073006</td>\n",
       "      <td>99.603179</td>\n",
       "      <td>1.637029</td>\n",
       "      <td>1.213260</td>\n",
       "      <td>3.688704</td>\n",
       "      <td>3.517471</td>\n",
       "      <td>3.507244</td>\n",
       "      <td>3.485300</td>\n",
       "      <td>3.503254</td>\n",
       "      <td>376938.330708</td>\n",
       "      <td>141005.726544</td>\n",
       "      <td>1.089491e+07</td>\n",
       "    </tr>\n",
       "    <tr>\n",
       "      <th>std</th>\n",
       "      <td>457.410902</td>\n",
       "      <td>57.403110</td>\n",
       "      <td>0.802902</td>\n",
       "      <td>0.409639</td>\n",
       "      <td>1.019099</td>\n",
       "      <td>0.891972</td>\n",
       "      <td>0.897834</td>\n",
       "      <td>0.887266</td>\n",
       "      <td>0.527223</td>\n",
       "      <td>143070.662010</td>\n",
       "      <td>78768.093718</td>\n",
       "      <td>3.768603e+06</td>\n",
       "    </tr>\n",
       "    <tr>\n",
       "      <th>min</th>\n",
       "      <td>500.000000</td>\n",
       "      <td>0.000000</td>\n",
       "      <td>1.000000</td>\n",
       "      <td>1.000000</td>\n",
       "      <td>2.000000</td>\n",
       "      <td>2.000000</td>\n",
       "      <td>2.000000</td>\n",
       "      <td>2.000000</td>\n",
       "      <td>2.000000</td>\n",
       "      <td>71177.000000</td>\n",
       "      <td>5055.000000</td>\n",
       "      <td>2.156875e+06</td>\n",
       "    </tr>\n",
       "    <tr>\n",
       "      <th>25%</th>\n",
       "      <td>993.000000</td>\n",
       "      <td>50.000000</td>\n",
       "      <td>1.000000</td>\n",
       "      <td>1.000000</td>\n",
       "      <td>3.000000</td>\n",
       "      <td>2.700000</td>\n",
       "      <td>2.700000</td>\n",
       "      <td>2.700000</td>\n",
       "      <td>3.130000</td>\n",
       "      <td>272406.000000</td>\n",
       "      <td>84219.000000</td>\n",
       "      <td>8.272100e+06</td>\n",
       "    </tr>\n",
       "    <tr>\n",
       "      <th>50%</th>\n",
       "      <td>1373.000000</td>\n",
       "      <td>99.000000</td>\n",
       "      <td>1.000000</td>\n",
       "      <td>1.000000</td>\n",
       "      <td>4.000000</td>\n",
       "      <td>3.500000</td>\n",
       "      <td>3.500000</td>\n",
       "      <td>3.500000</td>\n",
       "      <td>3.500000</td>\n",
       "      <td>349486.000000</td>\n",
       "      <td>127628.000000</td>\n",
       "      <td>1.033505e+07</td>\n",
       "    </tr>\n",
       "    <tr>\n",
       "      <th>75%</th>\n",
       "      <td>1744.000000</td>\n",
       "      <td>148.000000</td>\n",
       "      <td>2.000000</td>\n",
       "      <td>1.000000</td>\n",
       "      <td>4.000000</td>\n",
       "      <td>4.300000</td>\n",
       "      <td>4.300000</td>\n",
       "      <td>4.300000</td>\n",
       "      <td>3.890000</td>\n",
       "      <td>451562.000000</td>\n",
       "      <td>184506.000000</td>\n",
       "      <td>1.299390e+07</td>\n",
       "    </tr>\n",
       "    <tr>\n",
       "      <th>max</th>\n",
       "      <td>2500.000000</td>\n",
       "      <td>200.000000</td>\n",
       "      <td>4.000000</td>\n",
       "      <td>2.000000</td>\n",
       "      <td>6.000000</td>\n",
       "      <td>5.000000</td>\n",
       "      <td>5.000000</td>\n",
       "      <td>5.000000</td>\n",
       "      <td>4.970000</td>\n",
       "      <td>983922.000000</td>\n",
       "      <td>495405.000000</td>\n",
       "      <td>2.366734e+07</td>\n",
       "    </tr>\n",
       "  </tbody>\n",
       "</table>\n",
       "</div>"
      ],
      "text/plain": [
       "          INT_SQFT  DIST_MAINROAD    N_BEDROOM   N_BATHROOM       N_ROOM  \\\n",
       "count  7109.000000    7109.000000  7108.000000  7104.000000  7109.000000   \n",
       "mean   1382.073006      99.603179     1.637029     1.213260     3.688704   \n",
       "std     457.410902      57.403110     0.802902     0.409639     1.019099   \n",
       "min     500.000000       0.000000     1.000000     1.000000     2.000000   \n",
       "25%     993.000000      50.000000     1.000000     1.000000     3.000000   \n",
       "50%    1373.000000      99.000000     1.000000     1.000000     4.000000   \n",
       "75%    1744.000000     148.000000     2.000000     1.000000     4.000000   \n",
       "max    2500.000000     200.000000     4.000000     2.000000     6.000000   \n",
       "\n",
       "          QS_ROOMS  QS_BATHROOM   QS_BEDROOM   QS_OVERALL        REG_FEE  \\\n",
       "count  7109.000000  7109.000000  7109.000000  7061.000000    7109.000000   \n",
       "mean      3.517471     3.507244     3.485300     3.503254  376938.330708   \n",
       "std       0.891972     0.897834     0.887266     0.527223  143070.662010   \n",
       "min       2.000000     2.000000     2.000000     2.000000   71177.000000   \n",
       "25%       2.700000     2.700000     2.700000     3.130000  272406.000000   \n",
       "50%       3.500000     3.500000     3.500000     3.500000  349486.000000   \n",
       "75%       4.300000     4.300000     4.300000     3.890000  451562.000000   \n",
       "max       5.000000     5.000000     5.000000     4.970000  983922.000000   \n",
       "\n",
       "              COMMIS   SALES_PRICE  \n",
       "count    7109.000000  7.109000e+03  \n",
       "mean   141005.726544  1.089491e+07  \n",
       "std     78768.093718  3.768603e+06  \n",
       "min      5055.000000  2.156875e+06  \n",
       "25%     84219.000000  8.272100e+06  \n",
       "50%    127628.000000  1.033505e+07  \n",
       "75%    184506.000000  1.299390e+07  \n",
       "max    495405.000000  2.366734e+07  "
      ]
     },
     "execution_count": 7,
     "metadata": {},
     "output_type": "execute_result"
    }
   ],
   "source": [
    "dataset.describe()"
   ]
  },
  {
   "cell_type": "markdown",
   "id": "f6655ad2",
   "metadata": {},
   "source": [
    "Missing Values "
   ]
  },
  {
   "cell_type": "code",
   "execution_count": 8,
   "id": "e7794d9d",
   "metadata": {},
   "outputs": [
    {
     "data": {
      "text/plain": [
       "PRT_ID            0\n",
       "AREA              0\n",
       "INT_SQFT          0\n",
       "DATE_SALE         0\n",
       "DIST_MAINROAD     0\n",
       "N_BEDROOM         1\n",
       "N_BATHROOM        5\n",
       "N_ROOM            0\n",
       "SALE_COND         0\n",
       "PARK_FACIL        0\n",
       "DATE_BUILD        0\n",
       "BUILDTYPE         0\n",
       "UTILITY_AVAIL     0\n",
       "STREET            0\n",
       "MZZONE            0\n",
       "QS_ROOMS          0\n",
       "QS_BATHROOM       0\n",
       "QS_BEDROOM        0\n",
       "QS_OVERALL       48\n",
       "REG_FEE           0\n",
       "COMMIS            0\n",
       "SALES_PRICE       0\n",
       "dtype: int64"
      ]
     },
     "execution_count": 8,
     "metadata": {},
     "output_type": "execute_result"
    }
   ],
   "source": [
    "dataset.isnull().sum()"
   ]
  },
  {
   "cell_type": "markdown",
   "id": "9432d329",
   "metadata": {},
   "source": [
    "Relationship b/t missing values and sales price"
   ]
  },
  {
   "cell_type": "code",
   "execution_count": 9,
   "id": "32e48923",
   "metadata": {},
   "outputs": [
    {
     "data": {
      "image/png": "[encoded data removed]",
      "text/plain": [
       "<Figure size 432x288 with 1 Axes>"
      ]
     },
     "metadata": {
      "needs_background": "light"
     },
     "output_type": "display_data"
    },
    {
     "data": {
      "image/png": "[encoded data removed]",
      "text/plain": [
       "<Figure size 432x288 with 1 Axes>"
      ]
     },
     "metadata": {
      "needs_background": "light"
     },
     "output_type": "display_data"
    }
   ],
   "source": [
    "features_with_na=[features for features in dataset.columns if dataset[features].isnull().sum()>1]\n",
    "for feature in features_with_na:\n",
    "    data = dataset.copy()\n",
    "    \n",
    "    # let's make a variable that indicates 1 if the observation was missing or zero otherwise\n",
    "    data[feature] = np.where(data[feature].isnull(), 1, 0)\n",
    "    \n",
    "    # let's calculate the mean SalePrice where the information is missing or present\n",
    "    data.groupby(feature)['SALES_PRICE'].median().plot.bar()\n",
    "    plt.title(feature)\n",
    "    plt.show()"
   ]
  },
  {
   "cell_type": "markdown",
   "id": "af837329",
   "metadata": {},
   "source": [
    "Fill the null values"
   ]
  },
  {
   "cell_type": "code",
   "execution_count": 10,
   "id": "046bee3d",
   "metadata": {},
   "outputs": [],
   "source": [
    "dataset = dataset.fillna({\"N_BEDROOM\": dataset[\"N_BEDROOM\"].mean(),\"N_BATHROOM\": dataset[\"N_BATHROOM\"].mean(), \"QS_OVERALL\": dataset[\"QS_OVERALL\"].mean()})\n"
   ]
  },
  {
   "cell_type": "markdown",
   "id": "f81c6d4e",
   "metadata": {},
   "source": [
    "Checking for any duplicate values"
   ]
  },
  {
   "cell_type": "code",
   "execution_count": 11,
   "id": "522a9d0a",
   "metadata": {},
   "outputs": [
    {
     "data": {
      "text/html": [
       "<div>\n",
       "<style scoped>\n",
       "    .dataframe tbody tr th:only-of-type {\n",
       "        vertical-align: middle;\n",
       "    }\n",
       "\n",
       "    .dataframe tbody tr th {\n",
       "        vertical-align: top;\n",
       "    }\n",
       "\n",
       "    .dataframe thead th {\n",
       "        text-align: right;\n",
       "    }\n",
       "</style>\n",
       "<table border=\"1\" class=\"dataframe\">\n",
       "  <thead>\n",
       "    <tr style=\"text-align: right;\">\n",
       "      <th></th>\n",
       "      <th>PRT_ID</th>\n",
       "      <th>AREA</th>\n",
       "      <th>INT_SQFT</th>\n",
       "      <th>DATE_SALE</th>\n",
       "      <th>DIST_MAINROAD</th>\n",
       "      <th>N_BEDROOM</th>\n",
       "      <th>N_BATHROOM</th>\n",
       "      <th>N_ROOM</th>\n",
       "      <th>SALE_COND</th>\n",
       "      <th>PARK_FACIL</th>\n",
       "      <th>DATE_BUILD</th>\n",
       "      <th>BUILDTYPE</th>\n",
       "      <th>UTILITY_AVAIL</th>\n",
       "      <th>STREET</th>\n",
       "      <th>MZZONE</th>\n",
       "      <th>QS_ROOMS</th>\n",
       "      <th>QS_BATHROOM</th>\n",
       "      <th>QS_BEDROOM</th>\n",
       "      <th>QS_OVERALL</th>\n",
       "      <th>REG_FEE</th>\n",
       "      <th>COMMIS</th>\n",
       "      <th>SALES_PRICE</th>\n",
       "    </tr>\n",
       "  </thead>\n",
       "  <tbody>\n",
       "  </tbody>\n",
       "</table>\n",
       "</div>"
      ],
      "text/plain": [
       "Empty DataFrame\n",
       "Columns: [PRT_ID, AREA, INT_SQFT, DATE_SALE, DIST_MAINROAD, N_BEDROOM, N_BATHROOM, N_ROOM, SALE_COND, PARK_FACIL, DATE_BUILD, BUILDTYPE, UTILITY_AVAIL, STREET, MZZONE, QS_ROOMS, QS_BATHROOM, QS_BEDROOM, QS_OVERALL, REG_FEE, COMMIS, SALES_PRICE]\n",
       "Index: []"
      ]
     },
     "execution_count": 11,
     "metadata": {},
     "output_type": "execute_result"
    }
   ],
   "source": [
    "dataset[dataset.duplicated()]"
   ]
  },
  {
   "cell_type": "markdown",
   "id": "5c4cfd1f",
   "metadata": {},
   "source": [
    " Prediction:Here its clear that there is no duplicate values"
   ]
  },
  {
   "cell_type": "markdown",
   "id": "a68ba932",
   "metadata": {},
   "source": [
    "Changing the data types in numerical features"
   ]
  },
  {
   "cell_type": "code",
   "execution_count": 12,
   "id": "5d7f69ca",
   "metadata": {},
   "outputs": [],
   "source": [
    "dataset['N_BEDROOM'] = dataset['N_BEDROOM'].astype(int)\n",
    "dataset['N_BATHROOM'] = dataset['N_BATHROOM'].astype(int)"
   ]
  },
  {
   "cell_type": "code",
   "execution_count": 13,
   "id": "7898f915",
   "metadata": {},
   "outputs": [
    {
     "data": {
      "text/plain": [
       "PRT_ID            object\n",
       "AREA              object\n",
       "INT_SQFT           int64\n",
       "DATE_SALE         object\n",
       "DIST_MAINROAD      int64\n",
       "N_BEDROOM          int32\n",
       "N_BATHROOM         int32\n",
       "N_ROOM             int64\n",
       "SALE_COND         object\n",
       "PARK_FACIL        object\n",
       "DATE_BUILD        object\n",
       "BUILDTYPE         object\n",
       "UTILITY_AVAIL     object\n",
       "STREET            object\n",
       "MZZONE            object\n",
       "QS_ROOMS         float64\n",
       "QS_BATHROOM      float64\n",
       "QS_BEDROOM       float64\n",
       "QS_OVERALL       float64\n",
       "REG_FEE            int64\n",
       "COMMIS             int64\n",
       "SALES_PRICE        int64\n",
       "dtype: object"
      ]
     },
     "execution_count": 13,
     "metadata": {},
     "output_type": "execute_result"
    }
   ],
   "source": [
    "dataset.dtypes"
   ]
  },
  {
   "cell_type": "code",
   "execution_count": 14,
   "id": "3cf404d9",
   "metadata": {},
   "outputs": [
    {
     "data": {
      "text/plain": [
       "array(['Karapakkam', 'Anna Nagar', 'Adyar', 'Velachery', 'Chrompet',\n",
       "       'KK Nagar', 'TNagar', 'T Nagar', 'Chrompt', 'Chrmpet', 'Karapakam',\n",
       "       'Ana Nagar', 'Chormpet', 'Adyr', 'Velchery', 'Ann Nagar',\n",
       "       'KKNagar'], dtype=object)"
      ]
     },
     "execution_count": 14,
     "metadata": {},
     "output_type": "execute_result"
    }
   ],
   "source": [
    "dataset.AREA.unique()"
   ]
  },
  {
   "cell_type": "code",
   "execution_count": 15,
   "id": "908731e6",
   "metadata": {},
   "outputs": [],
   "source": [
    "dataset.replace({\"Chrompt\":\"Chrompet\",\"Chrmpet\":\"Chrompet\",\"Chormpet\":\"Chrompet\",\"Karapakam\":\"Karapakkam\",\"KKNagar\":'KK Nagar','Velchery':'Velachery','Ana Nagar':'Anna Nagar','Ann Nagar':'Anna Nagar','Adyr':'Adyar','TNagar':'T Nagar'},inplace=True)\n"
   ]
  },
  {
   "cell_type": "code",
   "execution_count": 16,
   "id": "9c27cc86",
   "metadata": {},
   "outputs": [
    {
     "data": {
      "text/plain": [
       "Chrompet      1702\n",
       "Karapakkam    1366\n",
       "KK Nagar       997\n",
       "Velachery      981\n",
       "Anna Nagar     788\n",
       "Adyar          774\n",
       "T Nagar        501\n",
       "Name: AREA, dtype: int64"
      ]
     },
     "execution_count": 16,
     "metadata": {},
     "output_type": "execute_result"
    }
   ],
   "source": [
    "dataset.AREA.value_counts()"
   ]
  },
  {
   "cell_type": "code",
   "execution_count": 17,
   "id": "e0efdc4e",
   "metadata": {},
   "outputs": [
    {
     "data": {
      "text/plain": [
       "array(['AbNormal', 'Family', 'Partial', 'AdjLand', 'Normal Sale',\n",
       "       'Ab Normal', 'Partiall', 'Adj Land', 'PartiaLl'], dtype=object)"
      ]
     },
     "execution_count": 17,
     "metadata": {},
     "output_type": "execute_result"
    }
   ],
   "source": [
    "dataset.SALE_COND.unique()"
   ]
  },
  {
   "cell_type": "code",
   "execution_count": 18,
   "id": "81a6fd41",
   "metadata": {},
   "outputs": [],
   "source": [
    "dataset.replace({'Adj Land':'AdjLand','Ab Normal':'AbNormal','Partiall':'Partial','PartiaLl':'Partial'},inplace =True)\n"
   ]
  },
  {
   "cell_type": "code",
   "execution_count": 19,
   "id": "e388c243",
   "metadata": {},
   "outputs": [
    {
     "data": {
      "text/plain": [
       "AdjLand        1439\n",
       "Partial        1433\n",
       "Normal Sale    1423\n",
       "AbNormal       1411\n",
       "Family         1403\n",
       "Name: SALE_COND, dtype: int64"
      ]
     },
     "execution_count": 19,
     "metadata": {},
     "output_type": "execute_result"
    }
   ],
   "source": [
    "dataset.SALE_COND.value_counts()"
   ]
  },
  {
   "cell_type": "code",
   "execution_count": 20,
   "id": "fb3d6e7c",
   "metadata": {},
   "outputs": [
    {
     "data": {
      "text/plain": [
       "Yes    3587\n",
       "No     3520\n",
       "Noo       2\n",
       "Name: PARK_FACIL, dtype: int64"
      ]
     },
     "execution_count": 20,
     "metadata": {},
     "output_type": "execute_result"
    }
   ],
   "source": [
    "dataset.PARK_FACIL.value_counts()"
   ]
  },
  {
   "cell_type": "code",
   "execution_count": 23,
   "id": "b6ae0734",
   "metadata": {},
   "outputs": [],
   "source": [
    "dataset.replace({'Noo':'No'},inplace = True)"
   ]
  },
  {
   "cell_type": "code",
   "execution_count": 24,
   "id": "b421348f",
   "metadata": {},
   "outputs": [
    {
     "data": {
      "text/plain": [
       "Yes    3587\n",
       "No     3522\n",
       "Name: PARK_FACIL, dtype: int64"
      ]
     },
     "execution_count": 24,
     "metadata": {},
     "output_type": "execute_result"
    }
   ],
   "source": [
    "dataset.PARK_FACIL.value_counts()"
   ]
  },
  {
   "cell_type": "code",
   "execution_count": 25,
   "id": "4169ff0a",
   "metadata": {},
   "outputs": [
    {
     "data": {
      "text/plain": [
       "PRT_ID                   object\n",
       "AREA                     object\n",
       "INT_SQFT                  int64\n",
       "DATE_SALE                object\n",
       "DIST_MAINROAD             int64\n",
       "N_BEDROOM                 int32\n",
       "N_BATHROOM                int32\n",
       "N_ROOM                    int64\n",
       "SALE_COND                object\n",
       "PARK_FACIL               object\n",
       "DATE_BUILD               object\n",
       "BUILDTYPE                object\n",
       "UTILITY_AVAIL            object\n",
       "STREET                   object\n",
       "MZZONE                   object\n",
       "QS_ROOMS                float64\n",
       "QS_BATHROOM             float64\n",
       "QS_BEDROOM              float64\n",
       "QS_OVERALL              float64\n",
       "REG_FEE                   int64\n",
       "COMMIS                    int64\n",
       "SALES_PRICE               int64\n",
       "Date_N           datetime64[ns]\n",
       "dtype: object"
      ]
     },
     "execution_count": 25,
     "metadata": {},
     "output_type": "execute_result"
    }
   ],
   "source": [
    "dataset['Date_N'] = pd.to_datetime(dataset['DATE_SALE'])\n",
    "dataset.dtypes"
   ]
  },
  {
   "cell_type": "code",
   "execution_count": 26,
   "id": "5fc474db",
   "metadata": {},
   "outputs": [
    {
     "data": {
      "image/png": "[encoded data removed]",
      "text/plain": [
       "<Figure size 432x288 with 1 Axes>"
      ]
     },
     "metadata": {
      "needs_background": "light"
     },
     "output_type": "display_data"
    }
   ],
   "source": [
    "dataset['Date_N'].dt.year.value_counts().plot(kind = 'bar');"
   ]
  },
  {
   "cell_type": "code",
   "execution_count": 27,
   "id": "fc0d8eca",
   "metadata": {},
   "outputs": [],
   "source": [
    "dataset['YEAR_SALE'] = dataset['Date_N'].dt.year"
   ]
  },
  {
   "cell_type": "code",
   "execution_count": 28,
   "id": "6c6a7ecc",
   "metadata": {},
   "outputs": [
    {
     "data": {
      "text/html": [
       "<div>\n",
       "<style scoped>\n",
       "    .dataframe tbody tr th:only-of-type {\n",
       "        vertical-align: middle;\n",
       "    }\n",
       "\n",
       "    .dataframe tbody tr th {\n",
       "        vertical-align: top;\n",
       "    }\n",
       "\n",
       "    .dataframe thead th {\n",
       "        text-align: right;\n",
       "    }\n",
       "</style>\n",
       "<table border=\"1\" class=\"dataframe\">\n",
       "  <thead>\n",
       "    <tr style=\"text-align: right;\">\n",
       "      <th></th>\n",
       "      <th>PRT_ID</th>\n",
       "      <th>AREA</th>\n",
       "      <th>INT_SQFT</th>\n",
       "      <th>DATE_SALE</th>\n",
       "      <th>DIST_MAINROAD</th>\n",
       "      <th>N_BEDROOM</th>\n",
       "      <th>N_BATHROOM</th>\n",
       "      <th>N_ROOM</th>\n",
       "      <th>SALE_COND</th>\n",
       "      <th>PARK_FACIL</th>\n",
       "      <th>DATE_BUILD</th>\n",
       "      <th>BUILDTYPE</th>\n",
       "      <th>UTILITY_AVAIL</th>\n",
       "      <th>STREET</th>\n",
       "      <th>MZZONE</th>\n",
       "      <th>QS_ROOMS</th>\n",
       "      <th>QS_BATHROOM</th>\n",
       "      <th>QS_BEDROOM</th>\n",
       "      <th>QS_OVERALL</th>\n",
       "      <th>REG_FEE</th>\n",
       "      <th>COMMIS</th>\n",
       "      <th>SALES_PRICE</th>\n",
       "      <th>Date_N</th>\n",
       "      <th>YEAR_SALE</th>\n",
       "    </tr>\n",
       "  </thead>\n",
       "  <tbody>\n",
       "    <tr>\n",
       "      <th>0</th>\n",
       "      <td>P03210</td>\n",
       "      <td>Karapakkam</td>\n",
       "      <td>1004</td>\n",
       "      <td>04-05-2011</td>\n",
       "      <td>131</td>\n",
       "      <td>1</td>\n",
       "      <td>1</td>\n",
       "      <td>3</td>\n",
       "      <td>AbNormal</td>\n",
       "      <td>Yes</td>\n",
       "      <td>15-05-1967</td>\n",
       "      <td>Commercial</td>\n",
       "      <td>AllPub</td>\n",
       "      <td>Paved</td>\n",
       "      <td>A</td>\n",
       "      <td>4.0</td>\n",
       "      <td>3.9</td>\n",
       "      <td>4.9</td>\n",
       "      <td>4.330</td>\n",
       "      <td>380000</td>\n",
       "      <td>144400</td>\n",
       "      <td>7600000</td>\n",
       "      <td>2011-04-05</td>\n",
       "      <td>2011</td>\n",
       "    </tr>\n",
       "    <tr>\n",
       "      <th>1</th>\n",
       "      <td>P09411</td>\n",
       "      <td>Anna Nagar</td>\n",
       "      <td>1986</td>\n",
       "      <td>19-12-2006</td>\n",
       "      <td>26</td>\n",
       "      <td>2</td>\n",
       "      <td>1</td>\n",
       "      <td>5</td>\n",
       "      <td>AbNormal</td>\n",
       "      <td>No</td>\n",
       "      <td>22-12-1995</td>\n",
       "      <td>Commercial</td>\n",
       "      <td>AllPub</td>\n",
       "      <td>Gravel</td>\n",
       "      <td>RH</td>\n",
       "      <td>4.9</td>\n",
       "      <td>4.2</td>\n",
       "      <td>2.5</td>\n",
       "      <td>3.765</td>\n",
       "      <td>760122</td>\n",
       "      <td>304049</td>\n",
       "      <td>21717770</td>\n",
       "      <td>2006-12-19</td>\n",
       "      <td>2006</td>\n",
       "    </tr>\n",
       "    <tr>\n",
       "      <th>2</th>\n",
       "      <td>P01812</td>\n",
       "      <td>Adyar</td>\n",
       "      <td>909</td>\n",
       "      <td>04-02-2012</td>\n",
       "      <td>70</td>\n",
       "      <td>1</td>\n",
       "      <td>1</td>\n",
       "      <td>3</td>\n",
       "      <td>AbNormal</td>\n",
       "      <td>Yes</td>\n",
       "      <td>09-02-1992</td>\n",
       "      <td>Commercial</td>\n",
       "      <td>ELO</td>\n",
       "      <td>Gravel</td>\n",
       "      <td>RL</td>\n",
       "      <td>4.1</td>\n",
       "      <td>3.8</td>\n",
       "      <td>2.2</td>\n",
       "      <td>3.090</td>\n",
       "      <td>421094</td>\n",
       "      <td>92114</td>\n",
       "      <td>13159200</td>\n",
       "      <td>2012-04-02</td>\n",
       "      <td>2012</td>\n",
       "    </tr>\n",
       "    <tr>\n",
       "      <th>3</th>\n",
       "      <td>P05346</td>\n",
       "      <td>Velachery</td>\n",
       "      <td>1855</td>\n",
       "      <td>13-03-2010</td>\n",
       "      <td>14</td>\n",
       "      <td>3</td>\n",
       "      <td>2</td>\n",
       "      <td>5</td>\n",
       "      <td>Family</td>\n",
       "      <td>No</td>\n",
       "      <td>18-03-1988</td>\n",
       "      <td>Others</td>\n",
       "      <td>NoSewr</td>\n",
       "      <td>Paved</td>\n",
       "      <td>I</td>\n",
       "      <td>4.7</td>\n",
       "      <td>3.9</td>\n",
       "      <td>3.6</td>\n",
       "      <td>4.010</td>\n",
       "      <td>356321</td>\n",
       "      <td>77042</td>\n",
       "      <td>9630290</td>\n",
       "      <td>2010-03-13</td>\n",
       "      <td>2010</td>\n",
       "    </tr>\n",
       "    <tr>\n",
       "      <th>4</th>\n",
       "      <td>P06210</td>\n",
       "      <td>Karapakkam</td>\n",
       "      <td>1226</td>\n",
       "      <td>05-10-2009</td>\n",
       "      <td>84</td>\n",
       "      <td>1</td>\n",
       "      <td>1</td>\n",
       "      <td>3</td>\n",
       "      <td>AbNormal</td>\n",
       "      <td>Yes</td>\n",
       "      <td>13-10-1979</td>\n",
       "      <td>Others</td>\n",
       "      <td>AllPub</td>\n",
       "      <td>Gravel</td>\n",
       "      <td>C</td>\n",
       "      <td>3.0</td>\n",
       "      <td>2.5</td>\n",
       "      <td>4.1</td>\n",
       "      <td>3.290</td>\n",
       "      <td>237000</td>\n",
       "      <td>74063</td>\n",
       "      <td>7406250</td>\n",
       "      <td>2009-05-10</td>\n",
       "      <td>2009</td>\n",
       "    </tr>\n",
       "  </tbody>\n",
       "</table>\n",
       "</div>"
      ],
      "text/plain": [
       "   PRT_ID        AREA  INT_SQFT   DATE_SALE  DIST_MAINROAD  N_BEDROOM  \\\n",
       "0  P03210  Karapakkam      1004  04-05-2011            131          1   \n",
       "1  P09411  Anna Nagar      1986  19-12-2006             26          2   \n",
       "2  P01812       Adyar       909  04-02-2012             70          1   \n",
       "3  P05346   Velachery      1855  13-03-2010             14          3   \n",
       "4  P06210  Karapakkam      1226  05-10-2009             84          1   \n",
       "\n",
       "   N_BATHROOM  N_ROOM SALE_COND PARK_FACIL  DATE_BUILD   BUILDTYPE  \\\n",
       "0           1       3  AbNormal        Yes  15-05-1967  Commercial   \n",
       "1           1       5  AbNormal         No  22-12-1995  Commercial   \n",
       "2           1       3  AbNormal        Yes  09-02-1992  Commercial   \n",
       "3           2       5    Family         No  18-03-1988      Others   \n",
       "4           1       3  AbNormal        Yes  13-10-1979      Others   \n",
       "\n",
       "  UTILITY_AVAIL  STREET MZZONE  QS_ROOMS  QS_BATHROOM  QS_BEDROOM  QS_OVERALL  \\\n",
       "0        AllPub   Paved      A       4.0          3.9         4.9       4.330   \n",
       "1        AllPub  Gravel     RH       4.9          4.2         2.5       3.765   \n",
       "2           ELO  Gravel     RL       4.1          3.8         2.2       3.090   \n",
       "3       NoSewr    Paved      I       4.7          3.9         3.6       4.010   \n",
       "4        AllPub  Gravel      C       3.0          2.5         4.1       3.290   \n",
       "\n",
       "   REG_FEE  COMMIS  SALES_PRICE     Date_N  YEAR_SALE  \n",
       "0   380000  144400      7600000 2011-04-05       2011  \n",
       "1   760122  304049     21717770 2006-12-19       2006  \n",
       "2   421094   92114     13159200 2012-04-02       2012  \n",
       "3   356321   77042      9630290 2010-03-13       2010  \n",
       "4   237000   74063      7406250 2009-05-10       2009  "
      ]
     },
     "execution_count": 28,
     "metadata": {},
     "output_type": "execute_result"
    }
   ],
   "source": [
    "dataset.head()"
   ]
  },
  {
   "cell_type": "code",
   "execution_count": 29,
   "id": "3a3b2a8b",
   "metadata": {},
   "outputs": [],
   "source": [
    "dataset.drop(['DATE_SALE','Date_N'],axis = 1,inplace = True)"
   ]
  },
  {
   "cell_type": "code",
   "execution_count": 30,
   "id": "154d9319",
   "metadata": {},
   "outputs": [
    {
     "data": {
      "text/html": [
       "<div>\n",
       "<style scoped>\n",
       "    .dataframe tbody tr th:only-of-type {\n",
       "        vertical-align: middle;\n",
       "    }\n",
       "\n",
       "    .dataframe tbody tr th {\n",
       "        vertical-align: top;\n",
       "    }\n",
       "\n",
       "    .dataframe thead th {\n",
       "        text-align: right;\n",
       "    }\n",
       "</style>\n",
       "<table border=\"1\" class=\"dataframe\">\n",
       "  <thead>\n",
       "    <tr style=\"text-align: right;\">\n",
       "      <th></th>\n",
       "      <th>PRT_ID</th>\n",
       "      <th>AREA</th>\n",
       "      <th>INT_SQFT</th>\n",
       "      <th>DIST_MAINROAD</th>\n",
       "      <th>N_BEDROOM</th>\n",
       "      <th>N_BATHROOM</th>\n",
       "      <th>N_ROOM</th>\n",
       "      <th>SALE_COND</th>\n",
       "      <th>PARK_FACIL</th>\n",
       "      <th>DATE_BUILD</th>\n",
       "      <th>BUILDTYPE</th>\n",
       "      <th>UTILITY_AVAIL</th>\n",
       "      <th>STREET</th>\n",
       "      <th>MZZONE</th>\n",
       "      <th>QS_ROOMS</th>\n",
       "      <th>QS_BATHROOM</th>\n",
       "      <th>QS_BEDROOM</th>\n",
       "      <th>QS_OVERALL</th>\n",
       "      <th>REG_FEE</th>\n",
       "      <th>COMMIS</th>\n",
       "      <th>SALES_PRICE</th>\n",
       "      <th>YEAR_SALE</th>\n",
       "    </tr>\n",
       "  </thead>\n",
       "  <tbody>\n",
       "    <tr>\n",
       "      <th>0</th>\n",
       "      <td>P03210</td>\n",
       "      <td>Karapakkam</td>\n",
       "      <td>1004</td>\n",
       "      <td>131</td>\n",
       "      <td>1</td>\n",
       "      <td>1</td>\n",
       "      <td>3</td>\n",
       "      <td>AbNormal</td>\n",
       "      <td>Yes</td>\n",
       "      <td>15-05-1967</td>\n",
       "      <td>Commercial</td>\n",
       "      <td>AllPub</td>\n",
       "      <td>Paved</td>\n",
       "      <td>A</td>\n",
       "      <td>4.0</td>\n",
       "      <td>3.9</td>\n",
       "      <td>4.9</td>\n",
       "      <td>4.33</td>\n",
       "      <td>380000</td>\n",
       "      <td>144400</td>\n",
       "      <td>7600000</td>\n",
       "      <td>2011</td>\n",
       "    </tr>\n",
       "  </tbody>\n",
       "</table>\n",
       "</div>"
      ],
      "text/plain": [
       "   PRT_ID        AREA  INT_SQFT  DIST_MAINROAD  N_BEDROOM  N_BATHROOM  N_ROOM  \\\n",
       "0  P03210  Karapakkam      1004            131          1           1       3   \n",
       "\n",
       "  SALE_COND PARK_FACIL  DATE_BUILD   BUILDTYPE UTILITY_AVAIL STREET MZZONE  \\\n",
       "0  AbNormal        Yes  15-05-1967  Commercial        AllPub  Paved      A   \n",
       "\n",
       "   QS_ROOMS  QS_BATHROOM  QS_BEDROOM  QS_OVERALL  REG_FEE  COMMIS  \\\n",
       "0       4.0          3.9         4.9        4.33   380000  144400   \n",
       "\n",
       "   SALES_PRICE  YEAR_SALE  \n",
       "0      7600000       2011  "
      ]
     },
     "execution_count": 30,
     "metadata": {},
     "output_type": "execute_result"
    }
   ],
   "source": [
    "dataset.head(1)"
   ]
  },
  {
   "cell_type": "code",
   "execution_count": 31,
   "id": "5ee84f1c",
   "metadata": {
    "scrolled": true
   },
   "outputs": [
    {
     "data": {
      "text/html": [
       "<div>\n",
       "<style scoped>\n",
       "    .dataframe tbody tr th:only-of-type {\n",
       "        vertical-align: middle;\n",
       "    }\n",
       "\n",
       "    .dataframe tbody tr th {\n",
       "        vertical-align: top;\n",
       "    }\n",
       "\n",
       "    .dataframe thead th {\n",
       "        text-align: right;\n",
       "    }\n",
       "</style>\n",
       "<table border=\"1\" class=\"dataframe\">\n",
       "  <thead>\n",
       "    <tr style=\"text-align: right;\">\n",
       "      <th></th>\n",
       "      <th>PRT_ID</th>\n",
       "      <th>AREA</th>\n",
       "      <th>INT_SQFT</th>\n",
       "      <th>DIST_MAINROAD</th>\n",
       "      <th>N_BEDROOM</th>\n",
       "      <th>N_BATHROOM</th>\n",
       "      <th>N_ROOM</th>\n",
       "      <th>SALE_COND</th>\n",
       "      <th>PARK_FACIL</th>\n",
       "      <th>DATE_BUILD</th>\n",
       "      <th>BUILDTYPE</th>\n",
       "      <th>UTILITY_AVAIL</th>\n",
       "      <th>STREET</th>\n",
       "      <th>MZZONE</th>\n",
       "      <th>QS_ROOMS</th>\n",
       "      <th>QS_BATHROOM</th>\n",
       "      <th>QS_BEDROOM</th>\n",
       "      <th>QS_OVERALL</th>\n",
       "      <th>REG_FEE</th>\n",
       "      <th>COMMIS</th>\n",
       "      <th>SALES_PRICE</th>\n",
       "      <th>YEAR_SALE</th>\n",
       "    </tr>\n",
       "  </thead>\n",
       "  <tbody>\n",
       "    <tr>\n",
       "      <th>0</th>\n",
       "      <td>P03210</td>\n",
       "      <td>Karapakkam</td>\n",
       "      <td>1004</td>\n",
       "      <td>131</td>\n",
       "      <td>1</td>\n",
       "      <td>1</td>\n",
       "      <td>3</td>\n",
       "      <td>AbNormal</td>\n",
       "      <td>Yes</td>\n",
       "      <td>15-05-1967</td>\n",
       "      <td>Commercial</td>\n",
       "      <td>AllPub</td>\n",
       "      <td>Paved</td>\n",
       "      <td>A</td>\n",
       "      <td>4.0</td>\n",
       "      <td>3.9</td>\n",
       "      <td>4.9</td>\n",
       "      <td>4.330</td>\n",
       "      <td>380000</td>\n",
       "      <td>144400</td>\n",
       "      <td>7600000</td>\n",
       "      <td>2011</td>\n",
       "    </tr>\n",
       "    <tr>\n",
       "      <th>6</th>\n",
       "      <td>P09105</td>\n",
       "      <td>Chrompet</td>\n",
       "      <td>1167</td>\n",
       "      <td>137</td>\n",
       "      <td>1</td>\n",
       "      <td>1</td>\n",
       "      <td>3</td>\n",
       "      <td>Partial</td>\n",
       "      <td>No</td>\n",
       "      <td>12-04-1979</td>\n",
       "      <td>Other</td>\n",
       "      <td>AllPub</td>\n",
       "      <td>No Access</td>\n",
       "      <td>RL</td>\n",
       "      <td>3.6</td>\n",
       "      <td>2.1</td>\n",
       "      <td>2.5</td>\n",
       "      <td>2.670</td>\n",
       "      <td>263152</td>\n",
       "      <td>33955</td>\n",
       "      <td>8488790</td>\n",
       "      <td>2007</td>\n",
       "    </tr>\n",
       "    <tr>\n",
       "      <th>7</th>\n",
       "      <td>P09679</td>\n",
       "      <td>Velachery</td>\n",
       "      <td>1847</td>\n",
       "      <td>176</td>\n",
       "      <td>3</td>\n",
       "      <td>2</td>\n",
       "      <td>5</td>\n",
       "      <td>Family</td>\n",
       "      <td>No</td>\n",
       "      <td>15-03-1996</td>\n",
       "      <td>Commercial</td>\n",
       "      <td>AllPub</td>\n",
       "      <td>Gravel</td>\n",
       "      <td>RM</td>\n",
       "      <td>2.4</td>\n",
       "      <td>4.5</td>\n",
       "      <td>2.1</td>\n",
       "      <td>3.260</td>\n",
       "      <td>604809</td>\n",
       "      <td>235204</td>\n",
       "      <td>16800250</td>\n",
       "      <td>2006</td>\n",
       "    </tr>\n",
       "    <tr>\n",
       "      <th>8</th>\n",
       "      <td>P03377</td>\n",
       "      <td>Chrompet</td>\n",
       "      <td>771</td>\n",
       "      <td>175</td>\n",
       "      <td>1</td>\n",
       "      <td>1</td>\n",
       "      <td>2</td>\n",
       "      <td>AdjLand</td>\n",
       "      <td>No</td>\n",
       "      <td>14-04-1977</td>\n",
       "      <td>Others</td>\n",
       "      <td>NoSewr</td>\n",
       "      <td>Paved</td>\n",
       "      <td>RM</td>\n",
       "      <td>2.9</td>\n",
       "      <td>3.7</td>\n",
       "      <td>4.0</td>\n",
       "      <td>3.550</td>\n",
       "      <td>257578</td>\n",
       "      <td>33236</td>\n",
       "      <td>8308970</td>\n",
       "      <td>2011</td>\n",
       "    </tr>\n",
       "    <tr>\n",
       "      <th>11</th>\n",
       "      <td>P07121</td>\n",
       "      <td>Chrompet</td>\n",
       "      <td>1054</td>\n",
       "      <td>143</td>\n",
       "      <td>1</td>\n",
       "      <td>1</td>\n",
       "      <td>3</td>\n",
       "      <td>Partial</td>\n",
       "      <td>No</td>\n",
       "      <td>26-02-1972</td>\n",
       "      <td>Others</td>\n",
       "      <td>NoSewr</td>\n",
       "      <td>Gravel</td>\n",
       "      <td>RM</td>\n",
       "      <td>2.2</td>\n",
       "      <td>3.1</td>\n",
       "      <td>3.3</td>\n",
       "      <td>2.890</td>\n",
       "      <td>245693</td>\n",
       "      <td>141746</td>\n",
       "      <td>9449730</td>\n",
       "      <td>2009</td>\n",
       "    </tr>\n",
       "    <tr>\n",
       "      <th>...</th>\n",
       "      <td>...</td>\n",
       "      <td>...</td>\n",
       "      <td>...</td>\n",
       "      <td>...</td>\n",
       "      <td>...</td>\n",
       "      <td>...</td>\n",
       "      <td>...</td>\n",
       "      <td>...</td>\n",
       "      <td>...</td>\n",
       "      <td>...</td>\n",
       "      <td>...</td>\n",
       "      <td>...</td>\n",
       "      <td>...</td>\n",
       "      <td>...</td>\n",
       "      <td>...</td>\n",
       "      <td>...</td>\n",
       "      <td>...</td>\n",
       "      <td>...</td>\n",
       "      <td>...</td>\n",
       "      <td>...</td>\n",
       "      <td>...</td>\n",
       "      <td>...</td>\n",
       "    </tr>\n",
       "    <tr>\n",
       "      <th>7098</th>\n",
       "      <td>P00629</td>\n",
       "      <td>Anna Nagar</td>\n",
       "      <td>1611</td>\n",
       "      <td>144</td>\n",
       "      <td>1</td>\n",
       "      <td>1</td>\n",
       "      <td>4</td>\n",
       "      <td>Partial</td>\n",
       "      <td>Yes</td>\n",
       "      <td>22-11-2008</td>\n",
       "      <td>Others</td>\n",
       "      <td>NoSeWa</td>\n",
       "      <td>Paved</td>\n",
       "      <td>RM</td>\n",
       "      <td>3.2</td>\n",
       "      <td>3.7</td>\n",
       "      <td>2.9</td>\n",
       "      <td>3.205</td>\n",
       "      <td>432288</td>\n",
       "      <td>209172</td>\n",
       "      <td>13944780</td>\n",
       "      <td>2013</td>\n",
       "    </tr>\n",
       "    <tr>\n",
       "      <th>7099</th>\n",
       "      <td>P03828</td>\n",
       "      <td>Adyar</td>\n",
       "      <td>895</td>\n",
       "      <td>197</td>\n",
       "      <td>1</td>\n",
       "      <td>1</td>\n",
       "      <td>3</td>\n",
       "      <td>AdjLand</td>\n",
       "      <td>Yes</td>\n",
       "      <td>15-01-1971</td>\n",
       "      <td>House</td>\n",
       "      <td>NoSewr</td>\n",
       "      <td>No Access</td>\n",
       "      <td>I</td>\n",
       "      <td>3.6</td>\n",
       "      <td>4.7</td>\n",
       "      <td>4.2</td>\n",
       "      <td>4.120</td>\n",
       "      <td>250641</td>\n",
       "      <td>7372</td>\n",
       "      <td>7371800</td>\n",
       "      <td>2011</td>\n",
       "    </tr>\n",
       "    <tr>\n",
       "      <th>7100</th>\n",
       "      <td>P05438</td>\n",
       "      <td>T Nagar</td>\n",
       "      <td>1733</td>\n",
       "      <td>191</td>\n",
       "      <td>1</td>\n",
       "      <td>1</td>\n",
       "      <td>4</td>\n",
       "      <td>AbNormal</td>\n",
       "      <td>Yes</td>\n",
       "      <td>02-03-1985</td>\n",
       "      <td>Commercial</td>\n",
       "      <td>NoSeWa</td>\n",
       "      <td>No Access</td>\n",
       "      <td>RL</td>\n",
       "      <td>3.4</td>\n",
       "      <td>3.7</td>\n",
       "      <td>2.1</td>\n",
       "      <td>2.890</td>\n",
       "      <td>702058</td>\n",
       "      <td>312026</td>\n",
       "      <td>19501600</td>\n",
       "      <td>2010</td>\n",
       "    </tr>\n",
       "    <tr>\n",
       "      <th>7106</th>\n",
       "      <td>P09594</td>\n",
       "      <td>Velachery</td>\n",
       "      <td>1614</td>\n",
       "      <td>152</td>\n",
       "      <td>2</td>\n",
       "      <td>1</td>\n",
       "      <td>4</td>\n",
       "      <td>Normal Sale</td>\n",
       "      <td>No</td>\n",
       "      <td>01-09-1978</td>\n",
       "      <td>House</td>\n",
       "      <td>NoSeWa</td>\n",
       "      <td>Gravel</td>\n",
       "      <td>I</td>\n",
       "      <td>4.3</td>\n",
       "      <td>4.2</td>\n",
       "      <td>2.9</td>\n",
       "      <td>3.840</td>\n",
       "      <td>317354</td>\n",
       "      <td>167028</td>\n",
       "      <td>8351410</td>\n",
       "      <td>2006</td>\n",
       "    </tr>\n",
       "    <tr>\n",
       "      <th>7108</th>\n",
       "      <td>P09794</td>\n",
       "      <td>Velachery</td>\n",
       "      <td>1896</td>\n",
       "      <td>156</td>\n",
       "      <td>3</td>\n",
       "      <td>2</td>\n",
       "      <td>5</td>\n",
       "      <td>Partial</td>\n",
       "      <td>Yes</td>\n",
       "      <td>24-07-1961</td>\n",
       "      <td>Others</td>\n",
       "      <td>ELO</td>\n",
       "      <td>Paved</td>\n",
       "      <td>I</td>\n",
       "      <td>3.1</td>\n",
       "      <td>3.5</td>\n",
       "      <td>4.3</td>\n",
       "      <td>3.640</td>\n",
       "      <td>349177</td>\n",
       "      <td>79812</td>\n",
       "      <td>9976480</td>\n",
       "      <td>2005</td>\n",
       "    </tr>\n",
       "  </tbody>\n",
       "</table>\n",
       "<p>3497 rows × 22 columns</p>\n",
       "</div>"
      ],
      "text/plain": [
       "      PRT_ID        AREA  INT_SQFT  DIST_MAINROAD  N_BEDROOM  N_BATHROOM  \\\n",
       "0     P03210  Karapakkam      1004            131          1           1   \n",
       "6     P09105    Chrompet      1167            137          1           1   \n",
       "7     P09679   Velachery      1847            176          3           2   \n",
       "8     P03377    Chrompet       771            175          1           1   \n",
       "11    P07121    Chrompet      1054            143          1           1   \n",
       "...      ...         ...       ...            ...        ...         ...   \n",
       "7098  P00629  Anna Nagar      1611            144          1           1   \n",
       "7099  P03828       Adyar       895            197          1           1   \n",
       "7100  P05438     T Nagar      1733            191          1           1   \n",
       "7106  P09594   Velachery      1614            152          2           1   \n",
       "7108  P09794   Velachery      1896            156          3           2   \n",
       "\n",
       "      N_ROOM    SALE_COND PARK_FACIL  DATE_BUILD   BUILDTYPE UTILITY_AVAIL  \\\n",
       "0          3     AbNormal        Yes  15-05-1967  Commercial        AllPub   \n",
       "6          3      Partial         No  12-04-1979       Other        AllPub   \n",
       "7          5       Family         No  15-03-1996  Commercial        AllPub   \n",
       "8          2      AdjLand         No  14-04-1977      Others       NoSewr    \n",
       "11         3      Partial         No  26-02-1972      Others       NoSewr    \n",
       "...      ...          ...        ...         ...         ...           ...   \n",
       "7098       4      Partial        Yes  22-11-2008      Others        NoSeWa   \n",
       "7099       3      AdjLand        Yes  15-01-1971       House       NoSewr    \n",
       "7100       4     AbNormal        Yes  02-03-1985  Commercial        NoSeWa   \n",
       "7106       4  Normal Sale         No  01-09-1978       House        NoSeWa   \n",
       "7108       5      Partial        Yes  24-07-1961      Others           ELO   \n",
       "\n",
       "         STREET MZZONE  QS_ROOMS  QS_BATHROOM  QS_BEDROOM  QS_OVERALL  \\\n",
       "0         Paved      A       4.0          3.9         4.9       4.330   \n",
       "6     No Access     RL       3.6          2.1         2.5       2.670   \n",
       "7        Gravel     RM       2.4          4.5         2.1       3.260   \n",
       "8         Paved     RM       2.9          3.7         4.0       3.550   \n",
       "11       Gravel     RM       2.2          3.1         3.3       2.890   \n",
       "...         ...    ...       ...          ...         ...         ...   \n",
       "7098      Paved     RM       3.2          3.7         2.9       3.205   \n",
       "7099  No Access      I       3.6          4.7         4.2       4.120   \n",
       "7100  No Access     RL       3.4          3.7         2.1       2.890   \n",
       "7106     Gravel      I       4.3          4.2         2.9       3.840   \n",
       "7108      Paved      I       3.1          3.5         4.3       3.640   \n",
       "\n",
       "      REG_FEE  COMMIS  SALES_PRICE  YEAR_SALE  \n",
       "0      380000  144400      7600000       2011  \n",
       "6      263152   33955      8488790       2007  \n",
       "7      604809  235204     16800250       2006  \n",
       "8      257578   33236      8308970       2011  \n",
       "11     245693  141746      9449730       2009  \n",
       "...       ...     ...          ...        ...  \n",
       "7098   432288  209172     13944780       2013  \n",
       "7099   250641    7372      7371800       2011  \n",
       "7100   702058  312026     19501600       2010  \n",
       "7106   317354  167028      8351410       2006  \n",
       "7108   349177   79812      9976480       2005  \n",
       "\n",
       "[3497 rows x 22 columns]"
      ]
     },
     "execution_count": 31,
     "metadata": {},
     "output_type": "execute_result"
    }
   ],
   "source": [
    "dataset[(dataset['DIST_MAINROAD'] > 100)]"
   ]
  },
  {
   "cell_type": "code",
   "execution_count": 32,
   "id": "15f6712e",
   "metadata": {
    "scrolled": true
   },
   "outputs": [
    {
     "name": "stderr",
     "output_type": "stream",
     "text": [
      "C:\\Users\\Sivethi\\anaconda3\\lib\\site-packages\\seaborn\\_decorators.py:36: FutureWarning: Pass the following variable as a keyword arg: x. From version 0.12, the only valid positional argument will be `data`, and passing other arguments without an explicit keyword will result in an error or misinterpretation.\n",
      "  warnings.warn(\n"
     ]
    },
    {
     "data": {
      "image/png": "[encoded data removed]",
      "text/plain": [
       "<Figure size 432x288 with 1 Axes>"
      ]
     },
     "metadata": {
      "needs_background": "light"
     },
     "output_type": "display_data"
    }
   ],
   "source": [
    "sns.countplot('N_BEDROOM', data=dataset);"
   ]
  },
  {
   "cell_type": "code",
   "execution_count": 33,
   "id": "79f22de5",
   "metadata": {},
   "outputs": [
    {
     "data": {
      "text/plain": [
       "<AxesSubplot:xlabel='N_BEDROOM', ylabel='SALES_PRICE'>"
      ]
     },
     "execution_count": 33,
     "metadata": {},
     "output_type": "execute_result"
    },
    {
     "data": {
      "image/png": "[encoded data removed]",
      "text/plain": [
       "<Figure size 432x288 with 1 Axes>"
      ]
     },
     "metadata": {
      "needs_background": "light"
     },
     "output_type": "display_data"
    }
   ],
   "source": [
    "sns.barplot(x=dataset.N_BEDROOM,y=dataset.SALES_PRICE)"
   ]
  },
  {
   "cell_type": "code",
   "execution_count": 34,
   "id": "2d408618",
   "metadata": {},
   "outputs": [
    {
     "data": {
      "text/plain": [
       "0       15-05-1967\n",
       "1       22-12-1995\n",
       "2       09-02-1992\n",
       "3       18-03-1988\n",
       "4       13-10-1979\n",
       "           ...    \n",
       "7104    15-01-1962\n",
       "7105    11-04-1995\n",
       "7106    01-09-1978\n",
       "7107    11-08-1977\n",
       "7108    24-07-1961\n",
       "Name: DATE_BUILD, Length: 7109, dtype: object"
      ]
     },
     "execution_count": 34,
     "metadata": {},
     "output_type": "execute_result"
    }
   ],
   "source": [
    "dataset.DATE_BUILD"
   ]
  },
  {
   "cell_type": "code",
   "execution_count": 35,
   "id": "0743b208",
   "metadata": {},
   "outputs": [],
   "source": [
    "dataset['Date_B'] = pd.to_datetime(dataset['DATE_BUILD'])"
   ]
  },
  {
   "cell_type": "code",
   "execution_count": 36,
   "id": "4f5f7a48",
   "metadata": {},
   "outputs": [
    {
     "data": {
      "text/plain": [
       "PRT_ID                   object\n",
       "AREA                     object\n",
       "INT_SQFT                  int64\n",
       "DIST_MAINROAD             int64\n",
       "N_BEDROOM                 int32\n",
       "N_BATHROOM                int32\n",
       "N_ROOM                    int64\n",
       "SALE_COND                object\n",
       "PARK_FACIL               object\n",
       "DATE_BUILD               object\n",
       "BUILDTYPE                object\n",
       "UTILITY_AVAIL            object\n",
       "STREET                   object\n",
       "MZZONE                   object\n",
       "QS_ROOMS                float64\n",
       "QS_BATHROOM             float64\n",
       "QS_BEDROOM              float64\n",
       "QS_OVERALL              float64\n",
       "REG_FEE                   int64\n",
       "COMMIS                    int64\n",
       "SALES_PRICE               int64\n",
       "YEAR_SALE                 int64\n",
       "Date_B           datetime64[ns]\n",
       "dtype: object"
      ]
     },
     "execution_count": 36,
     "metadata": {},
     "output_type": "execute_result"
    }
   ],
   "source": [
    "dataset.dtypes"
   ]
  },
  {
   "cell_type": "code",
   "execution_count": 37,
   "id": "ad4ce5fe",
   "metadata": {},
   "outputs": [],
   "source": [
    "dataset['YEAR_BUILD']= dataset['Date_B'].dt.year"
   ]
  },
  {
   "cell_type": "code",
   "execution_count": 38,
   "id": "a4f04fd6",
   "metadata": {},
   "outputs": [
    {
     "data": {
      "text/html": [
       "<div>\n",
       "<style scoped>\n",
       "    .dataframe tbody tr th:only-of-type {\n",
       "        vertical-align: middle;\n",
       "    }\n",
       "\n",
       "    .dataframe tbody tr th {\n",
       "        vertical-align: top;\n",
       "    }\n",
       "\n",
       "    .dataframe thead th {\n",
       "        text-align: right;\n",
       "    }\n",
       "</style>\n",
       "<table border=\"1\" class=\"dataframe\">\n",
       "  <thead>\n",
       "    <tr style=\"text-align: right;\">\n",
       "      <th></th>\n",
       "      <th>PRT_ID</th>\n",
       "      <th>AREA</th>\n",
       "      <th>INT_SQFT</th>\n",
       "      <th>DIST_MAINROAD</th>\n",
       "      <th>N_BEDROOM</th>\n",
       "      <th>N_BATHROOM</th>\n",
       "      <th>N_ROOM</th>\n",
       "      <th>SALE_COND</th>\n",
       "      <th>PARK_FACIL</th>\n",
       "      <th>DATE_BUILD</th>\n",
       "      <th>BUILDTYPE</th>\n",
       "      <th>UTILITY_AVAIL</th>\n",
       "      <th>STREET</th>\n",
       "      <th>MZZONE</th>\n",
       "      <th>QS_ROOMS</th>\n",
       "      <th>QS_BATHROOM</th>\n",
       "      <th>QS_BEDROOM</th>\n",
       "      <th>QS_OVERALL</th>\n",
       "      <th>REG_FEE</th>\n",
       "      <th>COMMIS</th>\n",
       "      <th>SALES_PRICE</th>\n",
       "      <th>YEAR_SALE</th>\n",
       "      <th>Date_B</th>\n",
       "      <th>YEAR_BUILD</th>\n",
       "    </tr>\n",
       "  </thead>\n",
       "  <tbody>\n",
       "    <tr>\n",
       "      <th>0</th>\n",
       "      <td>P03210</td>\n",
       "      <td>Karapakkam</td>\n",
       "      <td>1004</td>\n",
       "      <td>131</td>\n",
       "      <td>1</td>\n",
       "      <td>1</td>\n",
       "      <td>3</td>\n",
       "      <td>AbNormal</td>\n",
       "      <td>Yes</td>\n",
       "      <td>15-05-1967</td>\n",
       "      <td>Commercial</td>\n",
       "      <td>AllPub</td>\n",
       "      <td>Paved</td>\n",
       "      <td>A</td>\n",
       "      <td>4.0</td>\n",
       "      <td>3.9</td>\n",
       "      <td>4.9</td>\n",
       "      <td>4.330</td>\n",
       "      <td>380000</td>\n",
       "      <td>144400</td>\n",
       "      <td>7600000</td>\n",
       "      <td>2011</td>\n",
       "      <td>1967-05-15</td>\n",
       "      <td>1967</td>\n",
       "    </tr>\n",
       "    <tr>\n",
       "      <th>1</th>\n",
       "      <td>P09411</td>\n",
       "      <td>Anna Nagar</td>\n",
       "      <td>1986</td>\n",
       "      <td>26</td>\n",
       "      <td>2</td>\n",
       "      <td>1</td>\n",
       "      <td>5</td>\n",
       "      <td>AbNormal</td>\n",
       "      <td>No</td>\n",
       "      <td>22-12-1995</td>\n",
       "      <td>Commercial</td>\n",
       "      <td>AllPub</td>\n",
       "      <td>Gravel</td>\n",
       "      <td>RH</td>\n",
       "      <td>4.9</td>\n",
       "      <td>4.2</td>\n",
       "      <td>2.5</td>\n",
       "      <td>3.765</td>\n",
       "      <td>760122</td>\n",
       "      <td>304049</td>\n",
       "      <td>21717770</td>\n",
       "      <td>2006</td>\n",
       "      <td>1995-12-22</td>\n",
       "      <td>1995</td>\n",
       "    </tr>\n",
       "    <tr>\n",
       "      <th>2</th>\n",
       "      <td>P01812</td>\n",
       "      <td>Adyar</td>\n",
       "      <td>909</td>\n",
       "      <td>70</td>\n",
       "      <td>1</td>\n",
       "      <td>1</td>\n",
       "      <td>3</td>\n",
       "      <td>AbNormal</td>\n",
       "      <td>Yes</td>\n",
       "      <td>09-02-1992</td>\n",
       "      <td>Commercial</td>\n",
       "      <td>ELO</td>\n",
       "      <td>Gravel</td>\n",
       "      <td>RL</td>\n",
       "      <td>4.1</td>\n",
       "      <td>3.8</td>\n",
       "      <td>2.2</td>\n",
       "      <td>3.090</td>\n",
       "      <td>421094</td>\n",
       "      <td>92114</td>\n",
       "      <td>13159200</td>\n",
       "      <td>2012</td>\n",
       "      <td>1992-09-02</td>\n",
       "      <td>1992</td>\n",
       "    </tr>\n",
       "    <tr>\n",
       "      <th>3</th>\n",
       "      <td>P05346</td>\n",
       "      <td>Velachery</td>\n",
       "      <td>1855</td>\n",
       "      <td>14</td>\n",
       "      <td>3</td>\n",
       "      <td>2</td>\n",
       "      <td>5</td>\n",
       "      <td>Family</td>\n",
       "      <td>No</td>\n",
       "      <td>18-03-1988</td>\n",
       "      <td>Others</td>\n",
       "      <td>NoSewr</td>\n",
       "      <td>Paved</td>\n",
       "      <td>I</td>\n",
       "      <td>4.7</td>\n",
       "      <td>3.9</td>\n",
       "      <td>3.6</td>\n",
       "      <td>4.010</td>\n",
       "      <td>356321</td>\n",
       "      <td>77042</td>\n",
       "      <td>9630290</td>\n",
       "      <td>2010</td>\n",
       "      <td>1988-03-18</td>\n",
       "      <td>1988</td>\n",
       "    </tr>\n",
       "    <tr>\n",
       "      <th>4</th>\n",
       "      <td>P06210</td>\n",
       "      <td>Karapakkam</td>\n",
       "      <td>1226</td>\n",
       "      <td>84</td>\n",
       "      <td>1</td>\n",
       "      <td>1</td>\n",
       "      <td>3</td>\n",
       "      <td>AbNormal</td>\n",
       "      <td>Yes</td>\n",
       "      <td>13-10-1979</td>\n",
       "      <td>Others</td>\n",
       "      <td>AllPub</td>\n",
       "      <td>Gravel</td>\n",
       "      <td>C</td>\n",
       "      <td>3.0</td>\n",
       "      <td>2.5</td>\n",
       "      <td>4.1</td>\n",
       "      <td>3.290</td>\n",
       "      <td>237000</td>\n",
       "      <td>74063</td>\n",
       "      <td>7406250</td>\n",
       "      <td>2009</td>\n",
       "      <td>1979-10-13</td>\n",
       "      <td>1979</td>\n",
       "    </tr>\n",
       "  </tbody>\n",
       "</table>\n",
       "</div>"
      ],
      "text/plain": [
       "   PRT_ID        AREA  INT_SQFT  DIST_MAINROAD  N_BEDROOM  N_BATHROOM  N_ROOM  \\\n",
       "0  P03210  Karapakkam      1004            131          1           1       3   \n",
       "1  P09411  Anna Nagar      1986             26          2           1       5   \n",
       "2  P01812       Adyar       909             70          1           1       3   \n",
       "3  P05346   Velachery      1855             14          3           2       5   \n",
       "4  P06210  Karapakkam      1226             84          1           1       3   \n",
       "\n",
       "  SALE_COND PARK_FACIL  DATE_BUILD   BUILDTYPE UTILITY_AVAIL  STREET MZZONE  \\\n",
       "0  AbNormal        Yes  15-05-1967  Commercial        AllPub   Paved      A   \n",
       "1  AbNormal         No  22-12-1995  Commercial        AllPub  Gravel     RH   \n",
       "2  AbNormal        Yes  09-02-1992  Commercial           ELO  Gravel     RL   \n",
       "3    Family         No  18-03-1988      Others       NoSewr    Paved      I   \n",
       "4  AbNormal        Yes  13-10-1979      Others        AllPub  Gravel      C   \n",
       "\n",
       "   QS_ROOMS  QS_BATHROOM  QS_BEDROOM  QS_OVERALL  REG_FEE  COMMIS  \\\n",
       "0       4.0          3.9         4.9       4.330   380000  144400   \n",
       "1       4.9          4.2         2.5       3.765   760122  304049   \n",
       "2       4.1          3.8         2.2       3.090   421094   92114   \n",
       "3       4.7          3.9         3.6       4.010   356321   77042   \n",
       "4       3.0          2.5         4.1       3.290   237000   74063   \n",
       "\n",
       "   SALES_PRICE  YEAR_SALE     Date_B  YEAR_BUILD  \n",
       "0      7600000       2011 1967-05-15        1967  \n",
       "1     21717770       2006 1995-12-22        1995  \n",
       "2     13159200       2012 1992-09-02        1992  \n",
       "3      9630290       2010 1988-03-18        1988  \n",
       "4      7406250       2009 1979-10-13        1979  "
      ]
     },
     "execution_count": 38,
     "metadata": {},
     "output_type": "execute_result"
    }
   ],
   "source": [
    "dataset.head()"
   ]
  },
  {
   "cell_type": "code",
   "execution_count": 39,
   "id": "92718f61",
   "metadata": {},
   "outputs": [],
   "source": [
    "dataset.drop(['DATE_BUILD','Date_B'],axis = 1,inplace = True)"
   ]
  },
  {
   "cell_type": "code",
   "execution_count": 40,
   "id": "201b0d3f",
   "metadata": {},
   "outputs": [],
   "source": [
    "dataset['AGE']= dataset['YEAR_SALE']- dataset['YEAR_BUILD']"
   ]
  },
  {
   "cell_type": "code",
   "execution_count": 41,
   "id": "f8b8300c",
   "metadata": {},
   "outputs": [
    {
     "data": {
      "text/html": [
       "<div>\n",
       "<style scoped>\n",
       "    .dataframe tbody tr th:only-of-type {\n",
       "        vertical-align: middle;\n",
       "    }\n",
       "\n",
       "    .dataframe tbody tr th {\n",
       "        vertical-align: top;\n",
       "    }\n",
       "\n",
       "    .dataframe thead th {\n",
       "        text-align: right;\n",
       "    }\n",
       "</style>\n",
       "<table border=\"1\" class=\"dataframe\">\n",
       "  <thead>\n",
       "    <tr style=\"text-align: right;\">\n",
       "      <th></th>\n",
       "      <th>PRT_ID</th>\n",
       "      <th>AREA</th>\n",
       "      <th>INT_SQFT</th>\n",
       "      <th>DIST_MAINROAD</th>\n",
       "      <th>N_BEDROOM</th>\n",
       "      <th>N_BATHROOM</th>\n",
       "      <th>N_ROOM</th>\n",
       "      <th>SALE_COND</th>\n",
       "      <th>PARK_FACIL</th>\n",
       "      <th>BUILDTYPE</th>\n",
       "      <th>UTILITY_AVAIL</th>\n",
       "      <th>STREET</th>\n",
       "      <th>MZZONE</th>\n",
       "      <th>QS_ROOMS</th>\n",
       "      <th>QS_BATHROOM</th>\n",
       "      <th>QS_BEDROOM</th>\n",
       "      <th>QS_OVERALL</th>\n",
       "      <th>REG_FEE</th>\n",
       "      <th>COMMIS</th>\n",
       "      <th>SALES_PRICE</th>\n",
       "      <th>YEAR_SALE</th>\n",
       "      <th>YEAR_BUILD</th>\n",
       "      <th>AGE</th>\n",
       "    </tr>\n",
       "  </thead>\n",
       "  <tbody>\n",
       "    <tr>\n",
       "      <th>0</th>\n",
       "      <td>P03210</td>\n",
       "      <td>Karapakkam</td>\n",
       "      <td>1004</td>\n",
       "      <td>131</td>\n",
       "      <td>1</td>\n",
       "      <td>1</td>\n",
       "      <td>3</td>\n",
       "      <td>AbNormal</td>\n",
       "      <td>Yes</td>\n",
       "      <td>Commercial</td>\n",
       "      <td>AllPub</td>\n",
       "      <td>Paved</td>\n",
       "      <td>A</td>\n",
       "      <td>4.0</td>\n",
       "      <td>3.9</td>\n",
       "      <td>4.9</td>\n",
       "      <td>4.330</td>\n",
       "      <td>380000</td>\n",
       "      <td>144400</td>\n",
       "      <td>7600000</td>\n",
       "      <td>2011</td>\n",
       "      <td>1967</td>\n",
       "      <td>44</td>\n",
       "    </tr>\n",
       "    <tr>\n",
       "      <th>1</th>\n",
       "      <td>P09411</td>\n",
       "      <td>Anna Nagar</td>\n",
       "      <td>1986</td>\n",
       "      <td>26</td>\n",
       "      <td>2</td>\n",
       "      <td>1</td>\n",
       "      <td>5</td>\n",
       "      <td>AbNormal</td>\n",
       "      <td>No</td>\n",
       "      <td>Commercial</td>\n",
       "      <td>AllPub</td>\n",
       "      <td>Gravel</td>\n",
       "      <td>RH</td>\n",
       "      <td>4.9</td>\n",
       "      <td>4.2</td>\n",
       "      <td>2.5</td>\n",
       "      <td>3.765</td>\n",
       "      <td>760122</td>\n",
       "      <td>304049</td>\n",
       "      <td>21717770</td>\n",
       "      <td>2006</td>\n",
       "      <td>1995</td>\n",
       "      <td>11</td>\n",
       "    </tr>\n",
       "    <tr>\n",
       "      <th>2</th>\n",
       "      <td>P01812</td>\n",
       "      <td>Adyar</td>\n",
       "      <td>909</td>\n",
       "      <td>70</td>\n",
       "      <td>1</td>\n",
       "      <td>1</td>\n",
       "      <td>3</td>\n",
       "      <td>AbNormal</td>\n",
       "      <td>Yes</td>\n",
       "      <td>Commercial</td>\n",
       "      <td>ELO</td>\n",
       "      <td>Gravel</td>\n",
       "      <td>RL</td>\n",
       "      <td>4.1</td>\n",
       "      <td>3.8</td>\n",
       "      <td>2.2</td>\n",
       "      <td>3.090</td>\n",
       "      <td>421094</td>\n",
       "      <td>92114</td>\n",
       "      <td>13159200</td>\n",
       "      <td>2012</td>\n",
       "      <td>1992</td>\n",
       "      <td>20</td>\n",
       "    </tr>\n",
       "    <tr>\n",
       "      <th>3</th>\n",
       "      <td>P05346</td>\n",
       "      <td>Velachery</td>\n",
       "      <td>1855</td>\n",
       "      <td>14</td>\n",
       "      <td>3</td>\n",
       "      <td>2</td>\n",
       "      <td>5</td>\n",
       "      <td>Family</td>\n",
       "      <td>No</td>\n",
       "      <td>Others</td>\n",
       "      <td>NoSewr</td>\n",
       "      <td>Paved</td>\n",
       "      <td>I</td>\n",
       "      <td>4.7</td>\n",
       "      <td>3.9</td>\n",
       "      <td>3.6</td>\n",
       "      <td>4.010</td>\n",
       "      <td>356321</td>\n",
       "      <td>77042</td>\n",
       "      <td>9630290</td>\n",
       "      <td>2010</td>\n",
       "      <td>1988</td>\n",
       "      <td>22</td>\n",
       "    </tr>\n",
       "    <tr>\n",
       "      <th>4</th>\n",
       "      <td>P06210</td>\n",
       "      <td>Karapakkam</td>\n",
       "      <td>1226</td>\n",
       "      <td>84</td>\n",
       "      <td>1</td>\n",
       "      <td>1</td>\n",
       "      <td>3</td>\n",
       "      <td>AbNormal</td>\n",
       "      <td>Yes</td>\n",
       "      <td>Others</td>\n",
       "      <td>AllPub</td>\n",
       "      <td>Gravel</td>\n",
       "      <td>C</td>\n",
       "      <td>3.0</td>\n",
       "      <td>2.5</td>\n",
       "      <td>4.1</td>\n",
       "      <td>3.290</td>\n",
       "      <td>237000</td>\n",
       "      <td>74063</td>\n",
       "      <td>7406250</td>\n",
       "      <td>2009</td>\n",
       "      <td>1979</td>\n",
       "      <td>30</td>\n",
       "    </tr>\n",
       "  </tbody>\n",
       "</table>\n",
       "</div>"
      ],
      "text/plain": [
       "   PRT_ID        AREA  INT_SQFT  DIST_MAINROAD  N_BEDROOM  N_BATHROOM  N_ROOM  \\\n",
       "0  P03210  Karapakkam      1004            131          1           1       3   \n",
       "1  P09411  Anna Nagar      1986             26          2           1       5   \n",
       "2  P01812       Adyar       909             70          1           1       3   \n",
       "3  P05346   Velachery      1855             14          3           2       5   \n",
       "4  P06210  Karapakkam      1226             84          1           1       3   \n",
       "\n",
       "  SALE_COND PARK_FACIL   BUILDTYPE UTILITY_AVAIL  STREET MZZONE  QS_ROOMS  \\\n",
       "0  AbNormal        Yes  Commercial        AllPub   Paved      A       4.0   \n",
       "1  AbNormal         No  Commercial        AllPub  Gravel     RH       4.9   \n",
       "2  AbNormal        Yes  Commercial           ELO  Gravel     RL       4.1   \n",
       "3    Family         No      Others       NoSewr    Paved      I       4.7   \n",
       "4  AbNormal        Yes      Others        AllPub  Gravel      C       3.0   \n",
       "\n",
       "   QS_BATHROOM  QS_BEDROOM  QS_OVERALL  REG_FEE  COMMIS  SALES_PRICE  \\\n",
       "0          3.9         4.9       4.330   380000  144400      7600000   \n",
       "1          4.2         2.5       3.765   760122  304049     21717770   \n",
       "2          3.8         2.2       3.090   421094   92114     13159200   \n",
       "3          3.9         3.6       4.010   356321   77042      9630290   \n",
       "4          2.5         4.1       3.290   237000   74063      7406250   \n",
       "\n",
       "   YEAR_SALE  YEAR_BUILD  AGE  \n",
       "0       2011        1967   44  \n",
       "1       2006        1995   11  \n",
       "2       2012        1992   20  \n",
       "3       2010        1988   22  \n",
       "4       2009        1979   30  "
      ]
     },
     "execution_count": 41,
     "metadata": {},
     "output_type": "execute_result"
    }
   ],
   "source": [
    "dataset.head()"
   ]
  },
  {
   "cell_type": "code",
   "execution_count": 42,
   "id": "030967dc",
   "metadata": {},
   "outputs": [
    {
     "name": "stderr",
     "output_type": "stream",
     "text": [
      "C:\\Users\\Sivethi\\anaconda3\\lib\\site-packages\\seaborn\\distributions.py:2557: FutureWarning: `distplot` is a deprecated function and will be removed in a future version. Please adapt your code to use either `displot` (a figure-level function with similar flexibility) or `histplot` (an axes-level function for histograms).\n",
      "  warnings.warn(msg, FutureWarning)\n"
     ]
    },
    {
     "data": {
      "text/plain": [
       "<AxesSubplot:xlabel='AGE', ylabel='Density'>"
      ]
     },
     "execution_count": 42,
     "metadata": {},
     "output_type": "execute_result"
    },
    {
     "data": {
      "image/png": "[encoded data removed]",
      "text/plain": [
       "<Figure size 432x288 with 1 Axes>"
      ]
     },
     "metadata": {
      "needs_background": "light"
     },
     "output_type": "display_data"
    }
   ],
   "source": [
    "sns.distplot(dataset[\"AGE\"],kde= True, bins = 40)"
   ]
  },
  {
   "cell_type": "code",
   "execution_count": 43,
   "id": "66eb21b8",
   "metadata": {},
   "outputs": [
    {
     "data": {
      "text/plain": [
       "House         2444\n",
       "Commercial    2325\n",
       "Others        2310\n",
       "Other           26\n",
       "Comercial        4\n",
       "Name: BUILDTYPE, dtype: int64"
      ]
     },
     "execution_count": 43,
     "metadata": {},
     "output_type": "execute_result"
    }
   ],
   "source": [
    "dataset.BUILDTYPE.value_counts()"
   ]
  },
  {
   "cell_type": "code",
   "execution_count": 44,
   "id": "bd7ad712",
   "metadata": {},
   "outputs": [],
   "source": [
    "dataset.replace({'Other':'Others','Comercial':'Commercial'},inplace = True)"
   ]
  },
  {
   "cell_type": "code",
   "execution_count": 45,
   "id": "27601c70",
   "metadata": {},
   "outputs": [
    {
     "data": {
      "text/plain": [
       "House         2444\n",
       "Others        2336\n",
       "Commercial    2329\n",
       "Name: BUILDTYPE, dtype: int64"
      ]
     },
     "execution_count": 45,
     "metadata": {},
     "output_type": "execute_result"
    }
   ],
   "source": [
    "dataset.BUILDTYPE.value_counts()"
   ]
  },
  {
   "cell_type": "code",
   "execution_count": 46,
   "id": "6788979d",
   "metadata": {},
   "outputs": [
    {
     "data": {
      "text/plain": [
       "AllPub     1886\n",
       "NoSeWa     1871\n",
       "NoSewr     1829\n",
       "ELO        1522\n",
       "All Pub       1\n",
       "Name: UTILITY_AVAIL, dtype: int64"
      ]
     },
     "execution_count": 46,
     "metadata": {},
     "output_type": "execute_result"
    }
   ],
   "source": [
    "dataset.UTILITY_AVAIL.value_counts()"
   ]
  },
  {
   "cell_type": "code",
   "execution_count": 47,
   "id": "2c3fe43f",
   "metadata": {},
   "outputs": [],
   "source": [
    "dataset.replace({'All Pub':'AllPub','NoSewr':'NoSeWa'},inplace = True)"
   ]
  },
  {
   "cell_type": "code",
   "execution_count": 48,
   "id": "e016e421",
   "metadata": {},
   "outputs": [
    {
     "data": {
      "text/plain": [
       "AllPub     1887\n",
       "NoSeWa     1871\n",
       "NoSewr     1829\n",
       "ELO        1522\n",
       "Name: UTILITY_AVAIL, dtype: int64"
      ]
     },
     "execution_count": 48,
     "metadata": {},
     "output_type": "execute_result"
    }
   ],
   "source": [
    "dataset.UTILITY_AVAIL.value_counts()"
   ]
  },
  {
   "cell_type": "code",
   "execution_count": 49,
   "id": "45c256e4",
   "metadata": {},
   "outputs": [
    {
     "data": {
      "text/plain": [
       "Paved        2560\n",
       "Gravel       2520\n",
       "No Access    2010\n",
       "Pavd           12\n",
       "NoAccess        7\n",
       "Name: STREET, dtype: int64"
      ]
     },
     "execution_count": 49,
     "metadata": {},
     "output_type": "execute_result"
    }
   ],
   "source": [
    "dataset.STREET.value_counts()"
   ]
  },
  {
   "cell_type": "code",
   "execution_count": 50,
   "id": "9a78f26e",
   "metadata": {},
   "outputs": [],
   "source": [
    "dataset.replace({'Pavd':'Paved','NoAccess':'No Access'},inplace = True)"
   ]
  },
  {
   "cell_type": "code",
   "execution_count": 51,
   "id": "8f8e9593",
   "metadata": {},
   "outputs": [
    {
     "data": {
      "text/plain": [
       "array(['Paved', 'Gravel', 'No Access'], dtype=object)"
      ]
     },
     "execution_count": 51,
     "metadata": {},
     "output_type": "execute_result"
    }
   ],
   "source": [
    "dataset.STREET.unique()"
   ]
  },
  {
   "cell_type": "code",
   "execution_count": 52,
   "id": "a5b497f9",
   "metadata": {},
   "outputs": [
    {
     "data": {
      "text/plain": [
       "RL    1858\n",
       "RH    1822\n",
       "RM    1817\n",
       "C      550\n",
       "A      537\n",
       "I      525\n",
       "Name: MZZONE, dtype: int64"
      ]
     },
     "execution_count": 52,
     "metadata": {},
     "output_type": "execute_result"
    }
   ],
   "source": [
    "dataset.MZZONE.value_counts()"
   ]
  },
  {
   "cell_type": "code",
   "execution_count": 53,
   "id": "fd56ed60",
   "metadata": {},
   "outputs": [
    {
     "data": {
      "text/plain": [
       "array([4. , 4.9, 4.1, 4.7, 3. , 4.5, 3.6, 2.4, 2.9, 3.1, 2.2, 2.1, 4.8,\n",
       "       3.8, 2.3, 3.5, 4.6, 2.8, 4.2, 3.4, 2.7, 2. , 4.3, 3.9, 2.6, 3.3,\n",
       "       2.5, 3.7, 3.2, 4.4, 5. ])"
      ]
     },
     "execution_count": 53,
     "metadata": {},
     "output_type": "execute_result"
    }
   ],
   "source": [
    "dataset.QS_ROOMS.unique()"
   ]
  },
  {
   "cell_type": "code",
   "execution_count": 54,
   "id": "0603a976",
   "metadata": {},
   "outputs": [
    {
     "data": {
      "text/plain": [
       "array([3.9, 4.2, 3.8, 2.5, 2.6, 2.1, 4.5, 3.7, 3.1, 3.2, 3.4, 2.2, 4.6,\n",
       "       4.9, 2.7, 4.4, 5. , 2.8, 3. , 2.9, 3.6, 4. , 4.3, 2. , 3.3, 4.7,\n",
       "       2.3, 4.1, 4.8, 3.5, 2.4])"
      ]
     },
     "execution_count": 54,
     "metadata": {},
     "output_type": "execute_result"
    }
   ],
   "source": [
    "dataset.QS_BATHROOM.unique()"
   ]
  },
  {
   "cell_type": "code",
   "execution_count": 55,
   "id": "1a45c3bc",
   "metadata": {},
   "outputs": [
    {
     "data": {
      "text/plain": [
       "array([4.9, 2.5, 2.2, 3.6, 4.1, 3.1, 2.1, 4. , 3.3, 4.5, 3.7, 4.8, 4.7,\n",
       "       2.9, 3.4, 2.8, 3.8, 3. , 3.2, 2. , 4.3, 3.9, 3.5, 2.6, 4.4, 2.4,\n",
       "       4.6, 5. , 2.3, 2.7, 4.2])"
      ]
     },
     "execution_count": 55,
     "metadata": {},
     "output_type": "execute_result"
    }
   ],
   "source": [
    "dataset.QS_BEDROOM.unique()"
   ]
  },
  {
   "cell_type": "code",
   "execution_count": 56,
   "id": "80d164a2",
   "metadata": {},
   "outputs": [
    {
     "name": "stdout",
     "output_type": "stream",
     "text": [
      "<class 'pandas.core.frame.DataFrame'>\n",
      "RangeIndex: 7109 entries, 0 to 7108\n",
      "Data columns (total 23 columns):\n",
      " #   Column         Non-Null Count  Dtype  \n",
      "---  ------         --------------  -----  \n",
      " 0   PRT_ID         7109 non-null   object \n",
      " 1   AREA           7109 non-null   object \n",
      " 2   INT_SQFT       7109 non-null   int64  \n",
      " 3   DIST_MAINROAD  7109 non-null   int64  \n",
      " 4   N_BEDROOM      7109 non-null   int32  \n",
      " 5   N_BATHROOM     7109 non-null   int32  \n",
      " 6   N_ROOM         7109 non-null   int64  \n",
      " 7   SALE_COND      7109 non-null   object \n",
      " 8   PARK_FACIL     7109 non-null   object \n",
      " 9   BUILDTYPE      7109 non-null   object \n",
      " 10  UTILITY_AVAIL  7109 non-null   object \n",
      " 11  STREET         7109 non-null   object \n",
      " 12  MZZONE         7109 non-null   object \n",
      " 13  QS_ROOMS       7109 non-null   float64\n",
      " 14  QS_BATHROOM    7109 non-null   float64\n",
      " 15  QS_BEDROOM     7109 non-null   float64\n",
      " 16  QS_OVERALL     7109 non-null   float64\n",
      " 17  REG_FEE        7109 non-null   int64  \n",
      " 18  COMMIS         7109 non-null   int64  \n",
      " 19  SALES_PRICE    7109 non-null   int64  \n",
      " 20  YEAR_SALE      7109 non-null   int64  \n",
      " 21  YEAR_BUILD     7109 non-null   int64  \n",
      " 22  AGE            7109 non-null   int64  \n",
      "dtypes: float64(4), int32(2), int64(9), object(8)\n",
      "memory usage: 999.8+ KB\n"
     ]
    }
   ],
   "source": [
    "dataset.info()"
   ]
  },
  {
   "cell_type": "code",
   "execution_count": 57,
   "id": "7a962afe",
   "metadata": {},
   "outputs": [
    {
     "data": {
      "text/html": [
       "<div>\n",
       "<style scoped>\n",
       "    .dataframe tbody tr th:only-of-type {\n",
       "        vertical-align: middle;\n",
       "    }\n",
       "\n",
       "    .dataframe tbody tr th {\n",
       "        vertical-align: top;\n",
       "    }\n",
       "\n",
       "    .dataframe thead th {\n",
       "        text-align: right;\n",
       "    }\n",
       "</style>\n",
       "<table border=\"1\" class=\"dataframe\">\n",
       "  <thead>\n",
       "    <tr style=\"text-align: right;\">\n",
       "      <th></th>\n",
       "      <th>PRT_ID</th>\n",
       "      <th>AREA</th>\n",
       "      <th>INT_SQFT</th>\n",
       "      <th>DIST_MAINROAD</th>\n",
       "      <th>N_BEDROOM</th>\n",
       "      <th>N_BATHROOM</th>\n",
       "      <th>N_ROOM</th>\n",
       "      <th>SALE_COND</th>\n",
       "      <th>PARK_FACIL</th>\n",
       "      <th>BUILDTYPE</th>\n",
       "      <th>UTILITY_AVAIL</th>\n",
       "      <th>STREET</th>\n",
       "      <th>MZZONE</th>\n",
       "      <th>QS_ROOMS</th>\n",
       "      <th>QS_BATHROOM</th>\n",
       "      <th>QS_BEDROOM</th>\n",
       "      <th>QS_OVERALL</th>\n",
       "      <th>REG_FEE</th>\n",
       "      <th>COMMIS</th>\n",
       "      <th>SALES_PRICE</th>\n",
       "      <th>YEAR_SALE</th>\n",
       "      <th>YEAR_BUILD</th>\n",
       "      <th>AGE</th>\n",
       "    </tr>\n",
       "  </thead>\n",
       "  <tbody>\n",
       "    <tr>\n",
       "      <th>0</th>\n",
       "      <td>P03210</td>\n",
       "      <td>Karapakkam</td>\n",
       "      <td>1004</td>\n",
       "      <td>131</td>\n",
       "      <td>1</td>\n",
       "      <td>1</td>\n",
       "      <td>3</td>\n",
       "      <td>AbNormal</td>\n",
       "      <td>Yes</td>\n",
       "      <td>Commercial</td>\n",
       "      <td>AllPub</td>\n",
       "      <td>Paved</td>\n",
       "      <td>A</td>\n",
       "      <td>4.0</td>\n",
       "      <td>3.9</td>\n",
       "      <td>4.9</td>\n",
       "      <td>4.330</td>\n",
       "      <td>380000</td>\n",
       "      <td>144400</td>\n",
       "      <td>7600000</td>\n",
       "      <td>2011</td>\n",
       "      <td>1967</td>\n",
       "      <td>44</td>\n",
       "    </tr>\n",
       "    <tr>\n",
       "      <th>1</th>\n",
       "      <td>P09411</td>\n",
       "      <td>Anna Nagar</td>\n",
       "      <td>1986</td>\n",
       "      <td>26</td>\n",
       "      <td>2</td>\n",
       "      <td>1</td>\n",
       "      <td>5</td>\n",
       "      <td>AbNormal</td>\n",
       "      <td>No</td>\n",
       "      <td>Commercial</td>\n",
       "      <td>AllPub</td>\n",
       "      <td>Gravel</td>\n",
       "      <td>RH</td>\n",
       "      <td>4.9</td>\n",
       "      <td>4.2</td>\n",
       "      <td>2.5</td>\n",
       "      <td>3.765</td>\n",
       "      <td>760122</td>\n",
       "      <td>304049</td>\n",
       "      <td>21717770</td>\n",
       "      <td>2006</td>\n",
       "      <td>1995</td>\n",
       "      <td>11</td>\n",
       "    </tr>\n",
       "    <tr>\n",
       "      <th>2</th>\n",
       "      <td>P01812</td>\n",
       "      <td>Adyar</td>\n",
       "      <td>909</td>\n",
       "      <td>70</td>\n",
       "      <td>1</td>\n",
       "      <td>1</td>\n",
       "      <td>3</td>\n",
       "      <td>AbNormal</td>\n",
       "      <td>Yes</td>\n",
       "      <td>Commercial</td>\n",
       "      <td>ELO</td>\n",
       "      <td>Gravel</td>\n",
       "      <td>RL</td>\n",
       "      <td>4.1</td>\n",
       "      <td>3.8</td>\n",
       "      <td>2.2</td>\n",
       "      <td>3.090</td>\n",
       "      <td>421094</td>\n",
       "      <td>92114</td>\n",
       "      <td>13159200</td>\n",
       "      <td>2012</td>\n",
       "      <td>1992</td>\n",
       "      <td>20</td>\n",
       "    </tr>\n",
       "    <tr>\n",
       "      <th>3</th>\n",
       "      <td>P05346</td>\n",
       "      <td>Velachery</td>\n",
       "      <td>1855</td>\n",
       "      <td>14</td>\n",
       "      <td>3</td>\n",
       "      <td>2</td>\n",
       "      <td>5</td>\n",
       "      <td>Family</td>\n",
       "      <td>No</td>\n",
       "      <td>Others</td>\n",
       "      <td>NoSewr</td>\n",
       "      <td>Paved</td>\n",
       "      <td>I</td>\n",
       "      <td>4.7</td>\n",
       "      <td>3.9</td>\n",
       "      <td>3.6</td>\n",
       "      <td>4.010</td>\n",
       "      <td>356321</td>\n",
       "      <td>77042</td>\n",
       "      <td>9630290</td>\n",
       "      <td>2010</td>\n",
       "      <td>1988</td>\n",
       "      <td>22</td>\n",
       "    </tr>\n",
       "    <tr>\n",
       "      <th>4</th>\n",
       "      <td>P06210</td>\n",
       "      <td>Karapakkam</td>\n",
       "      <td>1226</td>\n",
       "      <td>84</td>\n",
       "      <td>1</td>\n",
       "      <td>1</td>\n",
       "      <td>3</td>\n",
       "      <td>AbNormal</td>\n",
       "      <td>Yes</td>\n",
       "      <td>Others</td>\n",
       "      <td>AllPub</td>\n",
       "      <td>Gravel</td>\n",
       "      <td>C</td>\n",
       "      <td>3.0</td>\n",
       "      <td>2.5</td>\n",
       "      <td>4.1</td>\n",
       "      <td>3.290</td>\n",
       "      <td>237000</td>\n",
       "      <td>74063</td>\n",
       "      <td>7406250</td>\n",
       "      <td>2009</td>\n",
       "      <td>1979</td>\n",
       "      <td>30</td>\n",
       "    </tr>\n",
       "  </tbody>\n",
       "</table>\n",
       "</div>"
      ],
      "text/plain": [
       "   PRT_ID        AREA  INT_SQFT  DIST_MAINROAD  N_BEDROOM  N_BATHROOM  N_ROOM  \\\n",
       "0  P03210  Karapakkam      1004            131          1           1       3   \n",
       "1  P09411  Anna Nagar      1986             26          2           1       5   \n",
       "2  P01812       Adyar       909             70          1           1       3   \n",
       "3  P05346   Velachery      1855             14          3           2       5   \n",
       "4  P06210  Karapakkam      1226             84          1           1       3   \n",
       "\n",
       "  SALE_COND PARK_FACIL   BUILDTYPE UTILITY_AVAIL  STREET MZZONE  QS_ROOMS  \\\n",
       "0  AbNormal        Yes  Commercial        AllPub   Paved      A       4.0   \n",
       "1  AbNormal         No  Commercial        AllPub  Gravel     RH       4.9   \n",
       "2  AbNormal        Yes  Commercial           ELO  Gravel     RL       4.1   \n",
       "3    Family         No      Others       NoSewr    Paved      I       4.7   \n",
       "4  AbNormal        Yes      Others        AllPub  Gravel      C       3.0   \n",
       "\n",
       "   QS_BATHROOM  QS_BEDROOM  QS_OVERALL  REG_FEE  COMMIS  SALES_PRICE  \\\n",
       "0          3.9         4.9       4.330   380000  144400      7600000   \n",
       "1          4.2         2.5       3.765   760122  304049     21717770   \n",
       "2          3.8         2.2       3.090   421094   92114     13159200   \n",
       "3          3.9         3.6       4.010   356321   77042      9630290   \n",
       "4          2.5         4.1       3.290   237000   74063      7406250   \n",
       "\n",
       "   YEAR_SALE  YEAR_BUILD  AGE  \n",
       "0       2011        1967   44  \n",
       "1       2006        1995   11  \n",
       "2       2012        1992   20  \n",
       "3       2010        1988   22  \n",
       "4       2009        1979   30  "
      ]
     },
     "execution_count": 57,
     "metadata": {},
     "output_type": "execute_result"
    }
   ],
   "source": [
    "dataset.head()"
   ]
  },
  {
   "cell_type": "code",
   "execution_count": 58,
   "id": "9dfdba4e",
   "metadata": {},
   "outputs": [
    {
     "data": {
      "text/plain": [
       "<AxesSubplot:>"
      ]
     },
     "execution_count": 58,
     "metadata": {},
     "output_type": "execute_result"
    },
    {
     "data": {
      "image/png": "[encoded data removed]",
      "text/plain": [
       "<Figure size 2160x2160 with 2 Axes>"
      ]
     },
     "metadata": {
      "needs_background": "light"
     },
     "output_type": "display_data"
    }
   ],
   "source": [
    "plt.figure(figsize=(30,30))\n",
    "sns.heatmap(dataset.corr(),annot=True, fmt='.2g')"
   ]
  },
  {
   "cell_type": "code",
   "execution_count": 59,
   "id": "3c811da6",
   "metadata": {},
   "outputs": [],
   "source": [
    "dataset.drop(['QS_ROOMS','QS_BATHROOM','QS_BEDROOM','QS_OVERALL','MZZONE','PRT_ID','YEAR_SALE','YEAR_BUILD','COMMIS','REG_FEE'],axis = 1,inplace = True)\n"
   ]
  },
  {
   "cell_type": "code",
   "execution_count": 60,
   "id": "99f02321",
   "metadata": {},
   "outputs": [
    {
     "data": {
      "text/html": [
       "<div>\n",
       "<style scoped>\n",
       "    .dataframe tbody tr th:only-of-type {\n",
       "        vertical-align: middle;\n",
       "    }\n",
       "\n",
       "    .dataframe tbody tr th {\n",
       "        vertical-align: top;\n",
       "    }\n",
       "\n",
       "    .dataframe thead th {\n",
       "        text-align: right;\n",
       "    }\n",
       "</style>\n",
       "<table border=\"1\" class=\"dataframe\">\n",
       "  <thead>\n",
       "    <tr style=\"text-align: right;\">\n",
       "      <th></th>\n",
       "      <th>AREA</th>\n",
       "      <th>INT_SQFT</th>\n",
       "      <th>DIST_MAINROAD</th>\n",
       "      <th>N_BEDROOM</th>\n",
       "      <th>N_BATHROOM</th>\n",
       "      <th>N_ROOM</th>\n",
       "      <th>SALE_COND</th>\n",
       "      <th>PARK_FACIL</th>\n",
       "      <th>BUILDTYPE</th>\n",
       "      <th>UTILITY_AVAIL</th>\n",
       "      <th>STREET</th>\n",
       "      <th>SALES_PRICE</th>\n",
       "      <th>AGE</th>\n",
       "    </tr>\n",
       "  </thead>\n",
       "  <tbody>\n",
       "    <tr>\n",
       "      <th>0</th>\n",
       "      <td>Karapakkam</td>\n",
       "      <td>1004</td>\n",
       "      <td>131</td>\n",
       "      <td>1</td>\n",
       "      <td>1</td>\n",
       "      <td>3</td>\n",
       "      <td>AbNormal</td>\n",
       "      <td>Yes</td>\n",
       "      <td>Commercial</td>\n",
       "      <td>AllPub</td>\n",
       "      <td>Paved</td>\n",
       "      <td>7600000</td>\n",
       "      <td>44</td>\n",
       "    </tr>\n",
       "    <tr>\n",
       "      <th>1</th>\n",
       "      <td>Anna Nagar</td>\n",
       "      <td>1986</td>\n",
       "      <td>26</td>\n",
       "      <td>2</td>\n",
       "      <td>1</td>\n",
       "      <td>5</td>\n",
       "      <td>AbNormal</td>\n",
       "      <td>No</td>\n",
       "      <td>Commercial</td>\n",
       "      <td>AllPub</td>\n",
       "      <td>Gravel</td>\n",
       "      <td>21717770</td>\n",
       "      <td>11</td>\n",
       "    </tr>\n",
       "    <tr>\n",
       "      <th>2</th>\n",
       "      <td>Adyar</td>\n",
       "      <td>909</td>\n",
       "      <td>70</td>\n",
       "      <td>1</td>\n",
       "      <td>1</td>\n",
       "      <td>3</td>\n",
       "      <td>AbNormal</td>\n",
       "      <td>Yes</td>\n",
       "      <td>Commercial</td>\n",
       "      <td>ELO</td>\n",
       "      <td>Gravel</td>\n",
       "      <td>13159200</td>\n",
       "      <td>20</td>\n",
       "    </tr>\n",
       "    <tr>\n",
       "      <th>3</th>\n",
       "      <td>Velachery</td>\n",
       "      <td>1855</td>\n",
       "      <td>14</td>\n",
       "      <td>3</td>\n",
       "      <td>2</td>\n",
       "      <td>5</td>\n",
       "      <td>Family</td>\n",
       "      <td>No</td>\n",
       "      <td>Others</td>\n",
       "      <td>NoSewr</td>\n",
       "      <td>Paved</td>\n",
       "      <td>9630290</td>\n",
       "      <td>22</td>\n",
       "    </tr>\n",
       "    <tr>\n",
       "      <th>4</th>\n",
       "      <td>Karapakkam</td>\n",
       "      <td>1226</td>\n",
       "      <td>84</td>\n",
       "      <td>1</td>\n",
       "      <td>1</td>\n",
       "      <td>3</td>\n",
       "      <td>AbNormal</td>\n",
       "      <td>Yes</td>\n",
       "      <td>Others</td>\n",
       "      <td>AllPub</td>\n",
       "      <td>Gravel</td>\n",
       "      <td>7406250</td>\n",
       "      <td>30</td>\n",
       "    </tr>\n",
       "  </tbody>\n",
       "</table>\n",
       "</div>"
      ],
      "text/plain": [
       "         AREA  INT_SQFT  DIST_MAINROAD  N_BEDROOM  N_BATHROOM  N_ROOM  \\\n",
       "0  Karapakkam      1004            131          1           1       3   \n",
       "1  Anna Nagar      1986             26          2           1       5   \n",
       "2       Adyar       909             70          1           1       3   \n",
       "3   Velachery      1855             14          3           2       5   \n",
       "4  Karapakkam      1226             84          1           1       3   \n",
       "\n",
       "  SALE_COND PARK_FACIL   BUILDTYPE UTILITY_AVAIL  STREET  SALES_PRICE  AGE  \n",
       "0  AbNormal        Yes  Commercial        AllPub   Paved      7600000   44  \n",
       "1  AbNormal         No  Commercial        AllPub  Gravel     21717770   11  \n",
       "2  AbNormal        Yes  Commercial           ELO  Gravel     13159200   20  \n",
       "3    Family         No      Others       NoSewr    Paved      9630290   22  \n",
       "4  AbNormal        Yes      Others        AllPub  Gravel      7406250   30  "
      ]
     },
     "execution_count": 60,
     "metadata": {},
     "output_type": "execute_result"
    }
   ],
   "source": [
    "dataset.head()"
   ]
  },
  {
   "cell_type": "code",
   "execution_count": 61,
   "id": "502ce25c",
   "metadata": {},
   "outputs": [
    {
     "name": "stdout",
     "output_type": "stream",
     "text": [
      "13\n"
     ]
    }
   ],
   "source": [
    "print(len(dataset.columns))"
   ]
  },
  {
   "cell_type": "code",
   "execution_count": 62,
   "id": "08a080a1",
   "metadata": {},
   "outputs": [],
   "source": [
    "from sklearn import preprocessing\n",
    "label_encoder = preprocessing.LabelEncoder()\n",
    "dataset['AREA'] = label_encoder.fit_transform(dataset['AREA'])\n",
    "dataset['SALE_COND'] = label_encoder.fit_transform(dataset['SALE_COND'])\n",
    "dataset['BUILDTYPE'] = label_encoder.fit_transform(dataset['BUILDTYPE'])\n",
    "dataset['UTILITY_AVAIL'] = label_encoder.fit_transform(dataset['UTILITY_AVAIL'])\n",
    "dataset['STREET'] = label_encoder.fit_transform(dataset['STREET'])\n",
    "dataset['PARK_FACIL'] = label_encoder.fit_transform(dataset['PARK_FACIL'])\n"
   ]
  },
  {
   "cell_type": "code",
   "execution_count": 63,
   "id": "ad66d9f7",
   "metadata": {},
   "outputs": [
    {
     "name": "stdout",
     "output_type": "stream",
     "text": [
      "Numerical features are: ['AREA', 'INT_SQFT', 'DIST_MAINROAD', 'N_BEDROOM', 'N_BATHROOM', 'N_ROOM', 'SALE_COND', 'PARK_FACIL', 'BUILDTYPE', 'UTILITY_AVAIL', 'STREET', 'SALES_PRICE', 'AGE']\n",
      "Categorical features are: []\n",
      "Discrete features are: ['AREA', 'N_BEDROOM', 'N_BATHROOM', 'N_ROOM', 'SALE_COND', 'PARK_FACIL', 'BUILDTYPE', 'UTILITY_AVAIL', 'STREET']\n",
      "Continuous features are: ['INT_SQFT', 'DIST_MAINROAD', 'SALES_PRICE', 'AGE']\n"
     ]
    }
   ],
   "source": [
    "numerical_feature = [feature for feature in dataset.columns if dataset[feature].dtype != 'object']\n",
    "categorical_feature = [feature for feature in dataset.columns if dataset[feature].dtype == 'object']\n",
    "discrete_feature = [feature for feature in numerical_feature if len(dataset[feature].unique()) <= 25]\n",
    "continuous_feature = [feature for feature in numerical_feature if feature not in discrete_feature]\n",
    "print(\"Numerical features are:\", numerical_feature)\n",
    "print(\"Categorical features are:\", categorical_feature)\n",
    "print(\"Discrete features are:\", discrete_feature)\n",
    "print(\"Continuous features are:\", continuous_feature)"
   ]
  },
  {
   "cell_type": "code",
   "execution_count": 64,
   "id": "f816540f",
   "metadata": {},
   "outputs": [
    {
     "name": "stdout",
     "output_type": "stream",
     "text": [
      "Number of numerical variables:  13\n",
      "Number of Categorical variables:  0\n",
      "Number of Discrete variables:  9\n",
      "Number of Continuous variables:  4\n"
     ]
    }
   ],
   "source": [
    "print('Number of numerical variables: ', len(numerical_feature))\n",
    "print('Number of Categorical variables: ', len(categorical_feature))\n",
    "print('Number of Discrete variables: ', len(discrete_feature))\n",
    "print('Number of Continuous variables: ', len(continuous_feature))"
   ]
  },
  {
   "cell_type": "code",
   "execution_count": 65,
   "id": "76f90ac0",
   "metadata": {},
   "outputs": [
    {
     "data": {
      "text/html": [
       "<div>\n",
       "<style scoped>\n",
       "    .dataframe tbody tr th:only-of-type {\n",
       "        vertical-align: middle;\n",
       "    }\n",
       "\n",
       "    .dataframe tbody tr th {\n",
       "        vertical-align: top;\n",
       "    }\n",
       "\n",
       "    .dataframe thead th {\n",
       "        text-align: right;\n",
       "    }\n",
       "</style>\n",
       "<table border=\"1\" class=\"dataframe\">\n",
       "  <thead>\n",
       "    <tr style=\"text-align: right;\">\n",
       "      <th></th>\n",
       "      <th>AREA</th>\n",
       "      <th>N_BEDROOM</th>\n",
       "      <th>N_BATHROOM</th>\n",
       "      <th>N_ROOM</th>\n",
       "      <th>SALE_COND</th>\n",
       "      <th>PARK_FACIL</th>\n",
       "      <th>BUILDTYPE</th>\n",
       "      <th>UTILITY_AVAIL</th>\n",
       "      <th>STREET</th>\n",
       "    </tr>\n",
       "  </thead>\n",
       "  <tbody>\n",
       "    <tr>\n",
       "      <th>0</th>\n",
       "      <td>4</td>\n",
       "      <td>1</td>\n",
       "      <td>1</td>\n",
       "      <td>3</td>\n",
       "      <td>0</td>\n",
       "      <td>1</td>\n",
       "      <td>0</td>\n",
       "      <td>0</td>\n",
       "      <td>2</td>\n",
       "    </tr>\n",
       "    <tr>\n",
       "      <th>1</th>\n",
       "      <td>1</td>\n",
       "      <td>2</td>\n",
       "      <td>1</td>\n",
       "      <td>5</td>\n",
       "      <td>0</td>\n",
       "      <td>0</td>\n",
       "      <td>0</td>\n",
       "      <td>0</td>\n",
       "      <td>0</td>\n",
       "    </tr>\n",
       "    <tr>\n",
       "      <th>2</th>\n",
       "      <td>0</td>\n",
       "      <td>1</td>\n",
       "      <td>1</td>\n",
       "      <td>3</td>\n",
       "      <td>0</td>\n",
       "      <td>1</td>\n",
       "      <td>0</td>\n",
       "      <td>1</td>\n",
       "      <td>0</td>\n",
       "    </tr>\n",
       "    <tr>\n",
       "      <th>3</th>\n",
       "      <td>6</td>\n",
       "      <td>3</td>\n",
       "      <td>2</td>\n",
       "      <td>5</td>\n",
       "      <td>2</td>\n",
       "      <td>0</td>\n",
       "      <td>2</td>\n",
       "      <td>3</td>\n",
       "      <td>2</td>\n",
       "    </tr>\n",
       "    <tr>\n",
       "      <th>4</th>\n",
       "      <td>4</td>\n",
       "      <td>1</td>\n",
       "      <td>1</td>\n",
       "      <td>3</td>\n",
       "      <td>0</td>\n",
       "      <td>1</td>\n",
       "      <td>2</td>\n",
       "      <td>0</td>\n",
       "      <td>0</td>\n",
       "    </tr>\n",
       "  </tbody>\n",
       "</table>\n",
       "</div>"
      ],
      "text/plain": [
       "   AREA  N_BEDROOM  N_BATHROOM  N_ROOM  SALE_COND  PARK_FACIL  BUILDTYPE  \\\n",
       "0     4          1           1       3          0           1          0   \n",
       "1     1          2           1       5          0           0          0   \n",
       "2     0          1           1       3          0           1          0   \n",
       "3     6          3           2       5          2           0          2   \n",
       "4     4          1           1       3          0           1          2   \n",
       "\n",
       "   UTILITY_AVAIL  STREET  \n",
       "0              0       2  \n",
       "1              0       0  \n",
       "2              1       0  \n",
       "3              3       2  \n",
       "4              0       0  "
      ]
     },
     "execution_count": 65,
     "metadata": {},
     "output_type": "execute_result"
    }
   ],
   "source": [
    "dataset[discrete_feature].head()"
   ]
  },
  {
   "cell_type": "code",
   "execution_count": 66,
   "id": "402f05e5",
   "metadata": {},
   "outputs": [
    {
     "data": {
      "image/png": "[encoded data removed]",
      "text/plain": [
       "<Figure size 432x288 with 1 Axes>"
      ]
     },
     "metadata": {
      "needs_background": "light"
     },
     "output_type": "display_data"
    },
    {
     "data": {
      "image/png": "[encoded data removed]",
      "text/plain": [
       "<Figure size 432x288 with 1 Axes>"
      ]
     },
     "metadata": {
      "needs_background": "light"
     },
     "output_type": "display_data"
    },
    {
     "data": {
      "image/png": "[encoded data removed]",
      "text/plain": [
       "<Figure size 432x288 with 1 Axes>"
      ]
     },
     "metadata": {
      "needs_background": "light"
     },
     "output_type": "display_data"
    },
    {
     "data": {
      "image/png": "[encoded data removed]",
      "text/plain": [
       "<Figure size 432x288 with 1 Axes>"
      ]
     },
     "metadata": {
      "needs_background": "light"
     },
     "output_type": "display_data"
    },
    {
     "data": {
      "image/png": "[encoded data removed]",
      "text/plain": [
       "<Figure size 432x288 with 1 Axes>"
      ]
     },
     "metadata": {
      "needs_background": "light"
     },
     "output_type": "display_data"
    },
    {
     "data": {
      "image/png": "[encoded data removed]",
      "text/plain": [
       "<Figure size 432x288 with 1 Axes>"
      ]
     },
     "metadata": {
      "needs_background": "light"
     },
     "output_type": "display_data"
    },
    {
     "data": {
      "image/png": "[encoded data removed]",
      "text/plain": [
       "<Figure size 432x288 with 1 Axes>"
      ]
     },
     "metadata": {
      "needs_background": "light"
     },
     "output_type": "display_data"
    },
    {
     "data": {
      "image/png": "[encoded data removed]",
      "text/plain": [
       "<Figure size 432x288 with 1 Axes>"
      ]
     },
     "metadata": {
      "needs_background": "light"
     },
     "output_type": "display_data"
    },
    {
     "data": {
      "image/png": "[encoded data removed]",
      "text/plain": [
       "<Figure size 432x288 with 1 Axes>"
      ]
     },
     "metadata": {
      "needs_background": "light"
     },
     "output_type": "display_data"
    }
   ],
   "source": [
    "for feature in discrete_feature:\n",
    "    data=dataset.copy()\n",
    "    data.groupby(feature)['SALES_PRICE'].median().plot.bar()\n",
    "    plt.xlabel(feature)\n",
    "    plt.ylabel('SALES_PRICE')\n",
    "    plt.title(feature)\n",
    "    plt.show()"
   ]
  },
  {
   "cell_type": "code",
   "execution_count": 67,
   "id": "6b858035",
   "metadata": {},
   "outputs": [
    {
     "data": {
      "image/png": "[encoded data removed]",
      "text/plain": [
       "<Figure size 432x288 with 1 Axes>"
      ]
     },
     "metadata": {
      "needs_background": "light"
     },
     "output_type": "display_data"
    },
    {
     "data": {
      "image/png": "[encoded data removed]",
      "text/plain": [
       "<Figure size 432x288 with 1 Axes>"
      ]
     },
     "metadata": {
      "needs_background": "light"
     },
     "output_type": "display_data"
    },
    {
     "data": {
      "image/png": "[encoded data removed]",
      "text/plain": [
       "<Figure size 432x288 with 1 Axes>"
      ]
     },
     "metadata": {
      "needs_background": "light"
     },
     "output_type": "display_data"
    },
    {
     "data": {
      "image/png": "[encoded data removed]",
      "text/plain": [
       "<Figure size 432x288 with 1 Axes>"
      ]
     },
     "metadata": {
      "needs_background": "light"
     },
     "output_type": "display_data"
    }
   ],
   "source": [
    "for feature in continuous_feature:\n",
    "    data=dataset.copy()\n",
    "    data[feature].hist(bins=50)\n",
    "    plt.xlabel(feature)\n",
    "    plt.ylabel(\"Count\")\n",
    "    plt.title(feature)\n",
    "    plt.show()"
   ]
  },
  {
   "cell_type": "code",
   "execution_count": 68,
   "id": "9b97d9d8",
   "metadata": {},
   "outputs": [
    {
     "data": {
      "image/png": "[encoded data removed]",
      "text/plain": [
       "<Figure size 432x288 with 1 Axes>"
      ]
     },
     "metadata": {
      "needs_background": "light"
     },
     "output_type": "display_data"
    },
    {
     "data": {
      "image/png": "[encoded data removed]",
      "text/plain": [
       "<Figure size 432x288 with 1 Axes>"
      ]
     },
     "metadata": {
      "needs_background": "light"
     },
     "output_type": "display_data"
    },
    {
     "data": {
      "image/png": "[encoded data removed]",
      "text/plain": [
       "<Figure size 432x288 with 1 Axes>"
      ]
     },
     "metadata": {
      "needs_background": "light"
     },
     "output_type": "display_data"
    }
   ],
   "source": [
    "for feature in continuous_feature:\n",
    "    data=dataset.copy()\n",
    "    if 0 in data[feature].unique():\n",
    "        pass\n",
    "    else:\n",
    "        data[feature]=np.log(data[feature])\n",
    "        data.boxplot(column=feature)\n",
    "        plt.ylabel(feature)\n",
    "        plt.title(feature)\n",
    "        plt.show()"
   ]
  },
  {
   "cell_type": "markdown",
   "id": "d68a1f33",
   "metadata": {},
   "source": [
    "Relationship between the discrete features and sales price"
   ]
  },
  {
   "cell_type": "code",
   "execution_count": 69,
   "id": "c8fb8dd9",
   "metadata": {},
   "outputs": [],
   "source": [
    "for feature in categorical_feature:\n",
    "    data=dataset.copy()\n",
    "    data.groupby(feature)['SALES_PRICE'].median().plot.bar()\n",
    "    plt.xlabel(feature)\n",
    "    plt.ylabel('SALES_PRICE')\n",
    "    plt.title(feature)\n",
    "    plt.show()"
   ]
  },
  {
   "cell_type": "code",
   "execution_count": 70,
   "id": "05fd03ba",
   "metadata": {},
   "outputs": [
    {
     "data": {
      "image/png": "[encoded data removed]",
      "text/plain": [
       "<Figure size 432x288 with 1 Axes>"
      ]
     },
     "metadata": {
      "needs_background": "light"
     },
     "output_type": "display_data"
    },
    {
     "data": {
      "image/png": "[encoded data removed]",
      "text/plain": [
       "<Figure size 432x288 with 1 Axes>"
      ]
     },
     "metadata": {
      "needs_background": "light"
     },
     "output_type": "display_data"
    },
    {
     "data": {
      "image/png": "[encoded data removed]",
      "text/plain": [
       "<Figure size 432x288 with 1 Axes>"
      ]
     },
     "metadata": {
      "needs_background": "light"
     },
     "output_type": "display_data"
    },
    {
     "data": {
      "image/png": "[encoded data removed]",
      "text/plain": [
       "<Figure size 432x288 with 1 Axes>"
      ]
     },
     "metadata": {
      "needs_background": "light"
     },
     "output_type": "display_data"
    },
    {
     "data": {
      "image/png": "[encoded data removed]",
      "text/plain": [
       "<Figure size 432x288 with 1 Axes>"
      ]
     },
     "metadata": {
      "needs_background": "light"
     },
     "output_type": "display_data"
    },
    {
     "data": {
      "image/png": "[encoded data removed]",
      "text/plain": [
       "<Figure size 432x288 with 1 Axes>"
      ]
     },
     "metadata": {
      "needs_background": "light"
     },
     "output_type": "display_data"
    },
    {
     "data": {
      "image/png": "[encoded data removed]",
      "text/plain": [
       "<Figure size 432x288 with 1 Axes>"
      ]
     },
     "metadata": {
      "needs_background": "light"
     },
     "output_type": "display_data"
    },
    {
     "data": {
      "image/png": "[encoded data removed]",
      "text/plain": [
       "<Figure size 432x288 with 1 Axes>"
      ]
     },
     "metadata": {
      "needs_background": "light"
     },
     "output_type": "display_data"
    },
    {
     "data": {
      "image/png": "[encoded data removed]",
      "text/plain": [
       "<Figure size 432x288 with 1 Axes>"
      ]
     },
     "metadata": {
      "needs_background": "light"
     },
     "output_type": "display_data"
    },
    {
     "data": {
      "image/png": "[encoded data removed]",
      "text/plain": [
       "<Figure size 432x288 with 1 Axes>"
      ]
     },
     "metadata": {
      "needs_background": "light"
     },
     "output_type": "display_data"
    },
    {
     "data": {
      "image/png": "[encoded data removed]",
      "text/plain": [
       "<Figure size 432x288 with 1 Axes>"
      ]
     },
     "metadata": {
      "needs_background": "light"
     },
     "output_type": "display_data"
    },
    {
     "data": {
      "image/png": "[encoded data removed]",
      "text/plain": [
       "<Figure size 432x288 with 1 Axes>"
      ]
     },
     "metadata": {
      "needs_background": "light"
     },
     "output_type": "display_data"
    },
    {
     "data": {
      "image/png": "[encoded data removed]",
      "text/plain": [
       "<Figure size 432x288 with 1 Axes>"
      ]
     },
     "metadata": {
      "needs_background": "light"
     },
     "output_type": "display_data"
    }
   ],
   "source": [
    "for feature in numerical_feature:\n",
    "    data=dataset.copy()\n",
    "    data[feature].hist(bins=50)\n",
    "    plt.xlabel(feature)\n",
    "    plt.ylabel(\"Count\")\n",
    "    plt.title(feature)\n",
    "    plt.show()"
   ]
  },
  {
   "cell_type": "code",
   "execution_count": 71,
   "id": "ab3db3c5",
   "metadata": {},
   "outputs": [],
   "source": [
    "for feature in categorical_feature:\n",
    "    data=dataset.copy()\n",
    "    data.groupby(feature)['SALES_PRICE'].median().plot.bar()\n",
    "    plt.xlabel(feature)\n",
    "    plt.ylabel('SALES_PRICE')\n",
    "    plt.title(feature)\n",
    "    plt.show()"
   ]
  },
  {
   "cell_type": "code",
   "execution_count": 73,
   "id": "ea9de644",
   "metadata": {},
   "outputs": [
    {
     "data": {
      "text/html": [
       "<div>\n",
       "<style scoped>\n",
       "    .dataframe tbody tr th:only-of-type {\n",
       "        vertical-align: middle;\n",
       "    }\n",
       "\n",
       "    .dataframe tbody tr th {\n",
       "        vertical-align: top;\n",
       "    }\n",
       "\n",
       "    .dataframe thead th {\n",
       "        text-align: right;\n",
       "    }\n",
       "</style>\n",
       "<table border=\"1\" class=\"dataframe\">\n",
       "  <thead>\n",
       "    <tr style=\"text-align: right;\">\n",
       "      <th></th>\n",
       "      <th>AREA</th>\n",
       "      <th>INT_SQFT</th>\n",
       "      <th>DIST_MAINROAD</th>\n",
       "      <th>N_BEDROOM</th>\n",
       "      <th>N_BATHROOM</th>\n",
       "      <th>N_ROOM</th>\n",
       "      <th>SALE_COND</th>\n",
       "      <th>PARK_FACIL</th>\n",
       "      <th>BUILDTYPE</th>\n",
       "      <th>UTILITY_AVAIL</th>\n",
       "      <th>STREET</th>\n",
       "      <th>SALES_PRICE</th>\n",
       "      <th>AGE</th>\n",
       "    </tr>\n",
       "  </thead>\n",
       "  <tbody>\n",
       "    <tr>\n",
       "      <th>0</th>\n",
       "      <td>4</td>\n",
       "      <td>1004</td>\n",
       "      <td>131</td>\n",
       "      <td>1</td>\n",
       "      <td>1</td>\n",
       "      <td>3</td>\n",
       "      <td>0</td>\n",
       "      <td>1</td>\n",
       "      <td>0</td>\n",
       "      <td>0</td>\n",
       "      <td>2</td>\n",
       "      <td>7600000</td>\n",
       "      <td>44</td>\n",
       "    </tr>\n",
       "    <tr>\n",
       "      <th>1</th>\n",
       "      <td>1</td>\n",
       "      <td>1986</td>\n",
       "      <td>26</td>\n",
       "      <td>2</td>\n",
       "      <td>1</td>\n",
       "      <td>5</td>\n",
       "      <td>0</td>\n",
       "      <td>0</td>\n",
       "      <td>0</td>\n",
       "      <td>0</td>\n",
       "      <td>0</td>\n",
       "      <td>21717770</td>\n",
       "      <td>11</td>\n",
       "    </tr>\n",
       "    <tr>\n",
       "      <th>2</th>\n",
       "      <td>0</td>\n",
       "      <td>909</td>\n",
       "      <td>70</td>\n",
       "      <td>1</td>\n",
       "      <td>1</td>\n",
       "      <td>3</td>\n",
       "      <td>0</td>\n",
       "      <td>1</td>\n",
       "      <td>0</td>\n",
       "      <td>1</td>\n",
       "      <td>0</td>\n",
       "      <td>13159200</td>\n",
       "      <td>20</td>\n",
       "    </tr>\n",
       "    <tr>\n",
       "      <th>3</th>\n",
       "      <td>6</td>\n",
       "      <td>1855</td>\n",
       "      <td>14</td>\n",
       "      <td>3</td>\n",
       "      <td>2</td>\n",
       "      <td>5</td>\n",
       "      <td>2</td>\n",
       "      <td>0</td>\n",
       "      <td>2</td>\n",
       "      <td>3</td>\n",
       "      <td>2</td>\n",
       "      <td>9630290</td>\n",
       "      <td>22</td>\n",
       "    </tr>\n",
       "  </tbody>\n",
       "</table>\n",
       "</div>"
      ],
      "text/plain": [
       "   AREA  INT_SQFT  DIST_MAINROAD  N_BEDROOM  N_BATHROOM  N_ROOM  SALE_COND  \\\n",
       "0     4      1004            131          1           1       3          0   \n",
       "1     1      1986             26          2           1       5          0   \n",
       "2     0       909             70          1           1       3          0   \n",
       "3     6      1855             14          3           2       5          2   \n",
       "\n",
       "   PARK_FACIL  BUILDTYPE  UTILITY_AVAIL  STREET  SALES_PRICE  AGE  \n",
       "0           1          0              0       2      7600000   44  \n",
       "1           0          0              0       0     21717770   11  \n",
       "2           1          0              1       0     13159200   20  \n",
       "3           0          2              3       2      9630290   22  "
      ]
     },
     "execution_count": 73,
     "metadata": {},
     "output_type": "execute_result"
    }
   ],
   "source": [
    "dataset.head(4)"
   ]
  },
  {
   "cell_type": "code",
   "execution_count": 74,
   "id": "99143d48",
   "metadata": {},
   "outputs": [],
   "source": [
    "data = dataset.copy()"
   ]
  },
  {
   "cell_type": "code",
   "execution_count": 75,
   "id": "96987688",
   "metadata": {},
   "outputs": [
    {
     "data": {
      "text/html": [
       "<div>\n",
       "<style scoped>\n",
       "    .dataframe tbody tr th:only-of-type {\n",
       "        vertical-align: middle;\n",
       "    }\n",
       "\n",
       "    .dataframe tbody tr th {\n",
       "        vertical-align: top;\n",
       "    }\n",
       "\n",
       "    .dataframe thead th {\n",
       "        text-align: right;\n",
       "    }\n",
       "</style>\n",
       "<table border=\"1\" class=\"dataframe\">\n",
       "  <thead>\n",
       "    <tr style=\"text-align: right;\">\n",
       "      <th></th>\n",
       "      <th>AREA</th>\n",
       "      <th>INT_SQFT</th>\n",
       "      <th>DIST_MAINROAD</th>\n",
       "      <th>N_BEDROOM</th>\n",
       "      <th>N_BATHROOM</th>\n",
       "      <th>N_ROOM</th>\n",
       "      <th>SALE_COND</th>\n",
       "      <th>PARK_FACIL</th>\n",
       "      <th>BUILDTYPE</th>\n",
       "      <th>UTILITY_AVAIL</th>\n",
       "      <th>STREET</th>\n",
       "      <th>SALES_PRICE</th>\n",
       "      <th>AGE</th>\n",
       "    </tr>\n",
       "  </thead>\n",
       "  <tbody>\n",
       "    <tr>\n",
       "      <th>0</th>\n",
       "      <td>4</td>\n",
       "      <td>1004</td>\n",
       "      <td>131</td>\n",
       "      <td>1</td>\n",
       "      <td>1</td>\n",
       "      <td>3</td>\n",
       "      <td>0</td>\n",
       "      <td>1</td>\n",
       "      <td>0</td>\n",
       "      <td>0</td>\n",
       "      <td>2</td>\n",
       "      <td>7600000</td>\n",
       "      <td>44</td>\n",
       "    </tr>\n",
       "    <tr>\n",
       "      <th>1</th>\n",
       "      <td>1</td>\n",
       "      <td>1986</td>\n",
       "      <td>26</td>\n",
       "      <td>2</td>\n",
       "      <td>1</td>\n",
       "      <td>5</td>\n",
       "      <td>0</td>\n",
       "      <td>0</td>\n",
       "      <td>0</td>\n",
       "      <td>0</td>\n",
       "      <td>0</td>\n",
       "      <td>21717770</td>\n",
       "      <td>11</td>\n",
       "    </tr>\n",
       "    <tr>\n",
       "      <th>2</th>\n",
       "      <td>0</td>\n",
       "      <td>909</td>\n",
       "      <td>70</td>\n",
       "      <td>1</td>\n",
       "      <td>1</td>\n",
       "      <td>3</td>\n",
       "      <td>0</td>\n",
       "      <td>1</td>\n",
       "      <td>0</td>\n",
       "      <td>1</td>\n",
       "      <td>0</td>\n",
       "      <td>13159200</td>\n",
       "      <td>20</td>\n",
       "    </tr>\n",
       "    <tr>\n",
       "      <th>3</th>\n",
       "      <td>6</td>\n",
       "      <td>1855</td>\n",
       "      <td>14</td>\n",
       "      <td>3</td>\n",
       "      <td>2</td>\n",
       "      <td>5</td>\n",
       "      <td>2</td>\n",
       "      <td>0</td>\n",
       "      <td>2</td>\n",
       "      <td>3</td>\n",
       "      <td>2</td>\n",
       "      <td>9630290</td>\n",
       "      <td>22</td>\n",
       "    </tr>\n",
       "    <tr>\n",
       "      <th>4</th>\n",
       "      <td>4</td>\n",
       "      <td>1226</td>\n",
       "      <td>84</td>\n",
       "      <td>1</td>\n",
       "      <td>1</td>\n",
       "      <td>3</td>\n",
       "      <td>0</td>\n",
       "      <td>1</td>\n",
       "      <td>2</td>\n",
       "      <td>0</td>\n",
       "      <td>0</td>\n",
       "      <td>7406250</td>\n",
       "      <td>30</td>\n",
       "    </tr>\n",
       "  </tbody>\n",
       "</table>\n",
       "</div>"
      ],
      "text/plain": [
       "   AREA  INT_SQFT  DIST_MAINROAD  N_BEDROOM  N_BATHROOM  N_ROOM  SALE_COND  \\\n",
       "0     4      1004            131          1           1       3          0   \n",
       "1     1      1986             26          2           1       5          0   \n",
       "2     0       909             70          1           1       3          0   \n",
       "3     6      1855             14          3           2       5          2   \n",
       "4     4      1226             84          1           1       3          0   \n",
       "\n",
       "   PARK_FACIL  BUILDTYPE  UTILITY_AVAIL  STREET  SALES_PRICE  AGE  \n",
       "0           1          0              0       2      7600000   44  \n",
       "1           0          0              0       0     21717770   11  \n",
       "2           1          0              1       0     13159200   20  \n",
       "3           0          2              3       2      9630290   22  \n",
       "4           1          2              0       0      7406250   30  "
      ]
     },
     "execution_count": 75,
     "metadata": {},
     "output_type": "execute_result"
    }
   ],
   "source": [
    "data.head()"
   ]
  },
  {
   "cell_type": "code",
   "execution_count": 76,
   "id": "a8ea242c",
   "metadata": {},
   "outputs": [
    {
     "data": {
      "text/plain": [
       "0        7600000\n",
       "1       21717770\n",
       "2       13159200\n",
       "3        9630290\n",
       "4        7406250\n",
       "          ...   \n",
       "7104     5353000\n",
       "7105    10818480\n",
       "7106     8351410\n",
       "7107     8507000\n",
       "7108     9976480\n",
       "Name: SALES_PRICE, Length: 7109, dtype: int64"
      ]
     },
     "execution_count": 76,
     "metadata": {},
     "output_type": "execute_result"
    }
   ],
   "source": [
    "X= data.drop(\"SALES_PRICE\",axis=1)\n",
    "y = data[\"SALES_PRICE\"]\n",
    "y"
   ]
  },
  {
   "cell_type": "code",
   "execution_count": 77,
   "id": "289eff1e",
   "metadata": {},
   "outputs": [
    {
     "data": {
      "text/plain": [
       "ExtraTreesRegressor()"
      ]
     },
     "execution_count": 77,
     "metadata": {},
     "output_type": "execute_result"
    }
   ],
   "source": [
    "from sklearn.ensemble import ExtraTreesRegressor\n",
    "import matplotlib.pyplot as plt\n",
    "model = ExtraTreesRegressor()\n",
    "model.fit(X,y)"
   ]
  },
  {
   "cell_type": "code",
   "execution_count": 78,
   "id": "59c1e6aa",
   "metadata": {},
   "outputs": [
    {
     "name": "stdout",
     "output_type": "stream",
     "text": [
      "[0.08611196 0.17363739 0.00888495 0.08391117 0.02829267 0.23800487\n",
      " 0.00894155 0.01796695 0.32020977 0.00729449 0.01447768 0.01226654]\n"
     ]
    }
   ],
   "source": [
    "print(model.feature_importances_)"
   ]
  },
  {
   "cell_type": "code",
   "execution_count": 79,
   "id": "ab5b7d56",
   "metadata": {},
   "outputs": [
    {
     "data": {
      "image/png": "[encoded data removed]",
      "text/plain": [
       "<Figure size 432x288 with 1 Axes>"
      ]
     },
     "metadata": {
      "needs_background": "light"
     },
     "output_type": "display_data"
    }
   ],
   "source": [
    "feat_importances = pd.Series(model.feature_importances_, index=X.columns)\n",
    "feat_importances.nlargest(5).plot(kind='barh')\n",
    "plt.show()"
   ]
  },
  {
   "cell_type": "code",
   "execution_count": 80,
   "id": "13319155",
   "metadata": {},
   "outputs": [
    {
     "data": {
      "text/plain": [
       "SelectFromModel(estimator=Lasso(alpha=0.005, random_state=0))"
      ]
     },
     "execution_count": 80,
     "metadata": {},
     "output_type": "execute_result"
    }
   ],
   "source": [
    "from sklearn.linear_model import Lasso\n",
    "from sklearn.feature_selection import SelectFromModel\n",
    "feature_sel_model = SelectFromModel(Lasso(alpha=0.005, random_state=0)) \n",
    "feature_sel_model.fit(X,y)"
   ]
  },
  {
   "cell_type": "code",
   "execution_count": 81,
   "id": "81f2385f",
   "metadata": {},
   "outputs": [
    {
     "data": {
      "text/plain": [
       "array([ True,  True,  True,  True,  True,  True,  True,  True,  True,\n",
       "        True,  True,  True])"
      ]
     },
     "execution_count": 81,
     "metadata": {},
     "output_type": "execute_result"
    }
   ],
   "source": [
    "feature_sel_model.get_support()"
   ]
  },
  {
   "cell_type": "code",
   "execution_count": 82,
   "id": "a3d253b7",
   "metadata": {},
   "outputs": [
    {
     "name": "stdout",
     "output_type": "stream",
     "text": [
      "total features: 12\n",
      "selected features: 12\n"
     ]
    }
   ],
   "source": [
    "selected_feat = X.columns[(feature_sel_model.get_support())]\n",
    "print('total features: {}'.format((X.shape[1])))\n",
    "print('selected features: {}'.format(len(selected_feat)))"
   ]
  },
  {
   "cell_type": "code",
   "execution_count": 83,
   "id": "530e371b",
   "metadata": {},
   "outputs": [
    {
     "data": {
      "text/plain": [
       "Index(['AREA', 'INT_SQFT', 'DIST_MAINROAD', 'N_BEDROOM', 'N_BATHROOM',\n",
       "       'N_ROOM', 'SALE_COND', 'PARK_FACIL', 'BUILDTYPE', 'UTILITY_AVAIL',\n",
       "       'STREET', 'AGE'],\n",
       "      dtype='object')"
      ]
     },
     "execution_count": 83,
     "metadata": {},
     "output_type": "execute_result"
    }
   ],
   "source": [
    "selected_feat"
   ]
  },
  {
   "cell_type": "code",
   "execution_count": 84,
   "id": "153d25f0",
   "metadata": {},
   "outputs": [],
   "source": [
    "from sklearn.model_selection import train_test_split\n",
    "X_train, X_test, y_train, y_test = train_test_split(X, y, test_size=0.3, random_state=0)"
   ]
  },
  {
   "cell_type": "code",
   "execution_count": 85,
   "id": "6eda38da",
   "metadata": {},
   "outputs": [
    {
     "data": {
      "text/plain": [
       "LinearRegression(normalize=True)"
      ]
     },
     "execution_count": 85,
     "metadata": {},
     "output_type": "execute_result"
    }
   ],
   "source": [
    "from sklearn.linear_model import LinearRegression  \n",
    "regressor = LinearRegression(normalize=True, fit_intercept = True)  \n",
    "regressor.fit(X_train, y_train)"
   ]
  },
  {
   "cell_type": "code",
   "execution_count": 86,
   "id": "3b22ed1d",
   "metadata": {},
   "outputs": [
    {
     "data": {
      "text/plain": [
       "array([12369848.99899812, 11823695.12491614, 15430092.02632052, ...,\n",
       "       15557258.400641  ,  7618833.56063037,  5431022.11719781])"
      ]
     },
     "execution_count": 86,
     "metadata": {},
     "output_type": "execute_result"
    }
   ],
   "source": [
    "y_pred = regressor.predict(X_test)\n",
    "y_pred"
   ]
  },
  {
   "cell_type": "code",
   "execution_count": 87,
   "id": "f4305c1d",
   "metadata": {},
   "outputs": [
    {
     "data": {
      "text/html": [
       "<div>\n",
       "<style scoped>\n",
       "    .dataframe tbody tr th:only-of-type {\n",
       "        vertical-align: middle;\n",
       "    }\n",
       "\n",
       "    .dataframe tbody tr th {\n",
       "        vertical-align: top;\n",
       "    }\n",
       "\n",
       "    .dataframe thead th {\n",
       "        text-align: right;\n",
       "    }\n",
       "</style>\n",
       "<table border=\"1\" class=\"dataframe\">\n",
       "  <thead>\n",
       "    <tr style=\"text-align: right;\">\n",
       "      <th></th>\n",
       "      <th>Actual</th>\n",
       "      <th>Predicted</th>\n",
       "    </tr>\n",
       "  </thead>\n",
       "  <tbody>\n",
       "    <tr>\n",
       "      <th>3913</th>\n",
       "      <td>13376150</td>\n",
       "      <td>1.236985e+07</td>\n",
       "    </tr>\n",
       "    <tr>\n",
       "      <th>2726</th>\n",
       "      <td>12857440</td>\n",
       "      <td>1.182370e+07</td>\n",
       "    </tr>\n",
       "    <tr>\n",
       "      <th>6220</th>\n",
       "      <td>19124310</td>\n",
       "      <td>1.543009e+07</td>\n",
       "    </tr>\n",
       "    <tr>\n",
       "      <th>2716</th>\n",
       "      <td>4905000</td>\n",
       "      <td>4.264241e+06</td>\n",
       "    </tr>\n",
       "    <tr>\n",
       "      <th>5459</th>\n",
       "      <td>13534450</td>\n",
       "      <td>1.246645e+07</td>\n",
       "    </tr>\n",
       "    <tr>\n",
       "      <th>...</th>\n",
       "      <td>...</td>\n",
       "      <td>...</td>\n",
       "    </tr>\n",
       "    <tr>\n",
       "      <th>549</th>\n",
       "      <td>7511125</td>\n",
       "      <td>8.049439e+06</td>\n",
       "    </tr>\n",
       "    <tr>\n",
       "      <th>6275</th>\n",
       "      <td>9414770</td>\n",
       "      <td>6.988504e+06</td>\n",
       "    </tr>\n",
       "    <tr>\n",
       "      <th>6772</th>\n",
       "      <td>13614160</td>\n",
       "      <td>1.555726e+07</td>\n",
       "    </tr>\n",
       "    <tr>\n",
       "      <th>2861</th>\n",
       "      <td>8415125</td>\n",
       "      <td>7.618834e+06</td>\n",
       "    </tr>\n",
       "    <tr>\n",
       "      <th>5407</th>\n",
       "      <td>6479750</td>\n",
       "      <td>5.431022e+06</td>\n",
       "    </tr>\n",
       "  </tbody>\n",
       "</table>\n",
       "<p>2133 rows × 2 columns</p>\n",
       "</div>"
      ],
      "text/plain": [
       "        Actual     Predicted\n",
       "3913  13376150  1.236985e+07\n",
       "2726  12857440  1.182370e+07\n",
       "6220  19124310  1.543009e+07\n",
       "2716   4905000  4.264241e+06\n",
       "5459  13534450  1.246645e+07\n",
       "...        ...           ...\n",
       "549    7511125  8.049439e+06\n",
       "6275   9414770  6.988504e+06\n",
       "6772  13614160  1.555726e+07\n",
       "2861   8415125  7.618834e+06\n",
       "5407   6479750  5.431022e+06\n",
       "\n",
       "[2133 rows x 2 columns]"
      ]
     },
     "execution_count": 87,
     "metadata": {},
     "output_type": "execute_result"
    }
   ],
   "source": [
    "df = pd.DataFrame({'Actual': y_test, 'Predicted': y_pred})\n",
    "df"
   ]
  },
  {
   "cell_type": "code",
   "execution_count": 88,
   "id": "ed1b085a",
   "metadata": {},
   "outputs": [
    {
     "name": "stdout",
     "output_type": "stream",
     "text": [
      "Mean Absolute Error: 1610503.4839556178\n",
      "Mean Squared Error: 3862492863324.075\n",
      "Root Mean Squared Error: 1965322.5850541878\n",
      "R2- SCORE: 0.7144116154373863\n"
     ]
    }
   ],
   "source": [
    "from sklearn import metrics\n",
    "print('Mean Absolute Error:', metrics.mean_absolute_error(y_test, y_pred))\n",
    "print('Mean Squared Error:', metrics.mean_squared_error(y_test, y_pred))\n",
    "print('Root Mean Squared Error:', np.sqrt(metrics.mean_squared_error(y_test, y_pred)))\n",
    "print('R2- SCORE:', metrics.r2_score(y_test,y_pred))"
   ]
  },
  {
   "cell_type": "code",
   "execution_count": 89,
   "id": "ac732172",
   "metadata": {},
   "outputs": [
    {
     "name": "stdout",
     "output_type": "stream",
     "text": [
      "[100, 200, 300, 400, 500, 600, 700, 800, 900, 1000, 1100, 1200]\n"
     ]
    }
   ],
   "source": [
    "from sklearn.ensemble import RandomForestRegressor\n",
    "regressor=RandomForestRegressor()\n",
    "n_estimators = [int(x) for x in np.linspace(start = 100, stop = 1200, num = 12)]\n",
    "print(n_estimators)"
   ]
  },
  {
   "cell_type": "code",
   "execution_count": 90,
   "id": "a543da57",
   "metadata": {},
   "outputs": [],
   "source": [
    "from sklearn.model_selection import RandomizedSearchCV"
   ]
  },
  {
   "cell_type": "code",
   "execution_count": 91,
   "id": "cbd0cc96",
   "metadata": {},
   "outputs": [],
   "source": [
    "#Randomized Search CV\n",
    "\n",
    "\n",
    "n_estimators = [int(x) for x in np.linspace(start = 100, stop = 1200, num = 12)]\n",
    "max_features = ['auto', 'sqrt']\n",
    "max_depth = [int(x) for x in np.linspace(5, 30, num = 6)]\n",
    "min_samples_split = [2, 5, 10, 15, 100]\n",
    "min_samples_leaf = [1, 2, 5, 10]"
   ]
  },
  {
   "cell_type": "code",
   "execution_count": 92,
   "id": "bc7d290e",
   "metadata": {},
   "outputs": [
    {
     "name": "stdout",
     "output_type": "stream",
     "text": [
      "{'n_estimators': [100, 200, 300, 400, 500, 600, 700, 800, 900, 1000, 1100, 1200], 'max_features': ['auto', 'sqrt'], 'max_depth': [5, 10, 15, 20, 25, 30], 'min_samples_split': [2, 5, 10, 15, 100], 'min_samples_leaf': [1, 2, 5, 10]}\n"
     ]
    }
   ],
   "source": [
    "# Create the random grid\n",
    "random_grid = {'n_estimators': n_estimators,\n",
    "               'max_features': max_features,\n",
    "               'max_depth': max_depth,\n",
    "               'min_samples_split': min_samples_split,\n",
    "               'min_samples_leaf': min_samples_leaf}\n",
    "\n",
    "print(random_grid)"
   ]
  },
  {
   "cell_type": "code",
   "execution_count": 93,
   "id": "01269e61",
   "metadata": {},
   "outputs": [],
   "source": [
    "rf = RandomForestRegressor()"
   ]
  },
  {
   "cell_type": "code",
   "execution_count": 94,
   "id": "ff1254ed",
   "metadata": {},
   "outputs": [],
   "source": [
    "rf_random = RandomizedSearchCV(estimator = rf, param_distributions = random_grid,scoring='neg_mean_squared_error', n_iter = 10, cv = 5, verbose=2, random_state=42, n_jobs = 1)\n"
   ]
  },
  {
   "cell_type": "code",
   "execution_count": 95,
   "id": "58f90382",
   "metadata": {
    "scrolled": true
   },
   "outputs": [
    {
     "name": "stdout",
     "output_type": "stream",
     "text": [
      "Fitting 5 folds for each of 10 candidates, totalling 50 fits\n",
      "[CV] n_estimators=900, min_samples_split=5, min_samples_leaf=5, max_features=sqrt, max_depth=10 \n"
     ]
    },
    {
     "name": "stderr",
     "output_type": "stream",
     "text": [
      "[Parallel(n_jobs=1)]: Using backend SequentialBackend with 1 concurrent workers.\n"
     ]
    },
    {
     "name": "stdout",
     "output_type": "stream",
     "text": [
      "[CV]  n_estimators=900, min_samples_split=5, min_samples_leaf=5, max_features=sqrt, max_depth=10, total=   5.5s\n",
      "[CV] n_estimators=900, min_samples_split=5, min_samples_leaf=5, max_features=sqrt, max_depth=10 \n"
     ]
    },
    {
     "name": "stderr",
     "output_type": "stream",
     "text": [
      "[Parallel(n_jobs=1)]: Done   1 out of   1 | elapsed:    5.4s remaining:    0.0s\n"
     ]
    },
    {
     "name": "stdout",
     "output_type": "stream",
     "text": [
      "[CV]  n_estimators=900, min_samples_split=5, min_samples_leaf=5, max_features=sqrt, max_depth=10, total=   5.9s\n",
      "[CV] n_estimators=900, min_samples_split=5, min_samples_leaf=5, max_features=sqrt, max_depth=10 \n",
      "[CV]  n_estimators=900, min_samples_split=5, min_samples_leaf=5, max_features=sqrt, max_depth=10, total=   5.2s\n",
      "[CV] n_estimators=900, min_samples_split=5, min_samples_leaf=5, max_features=sqrt, max_depth=10 \n",
      "[CV]  n_estimators=900, min_samples_split=5, min_samples_leaf=5, max_features=sqrt, max_depth=10, total=   5.6s\n",
      "[CV] n_estimators=900, min_samples_split=5, min_samples_leaf=5, max_features=sqrt, max_depth=10 \n",
      "[CV]  n_estimators=900, min_samples_split=5, min_samples_leaf=5, max_features=sqrt, max_depth=10, total=   5.5s\n",
      "[CV] n_estimators=1100, min_samples_split=10, min_samples_leaf=2, max_features=sqrt, max_depth=15 \n",
      "[CV]  n_estimators=1100, min_samples_split=10, min_samples_leaf=2, max_features=sqrt, max_depth=15, total=   7.2s\n",
      "[CV] n_estimators=1100, min_samples_split=10, min_samples_leaf=2, max_features=sqrt, max_depth=15 \n",
      "[CV]  n_estimators=1100, min_samples_split=10, min_samples_leaf=2, max_features=sqrt, max_depth=15, total=   7.9s\n",
      "[CV] n_estimators=1100, min_samples_split=10, min_samples_leaf=2, max_features=sqrt, max_depth=15 \n",
      "[CV]  n_estimators=1100, min_samples_split=10, min_samples_leaf=2, max_features=sqrt, max_depth=15, total=   7.5s\n",
      "[CV] n_estimators=1100, min_samples_split=10, min_samples_leaf=2, max_features=sqrt, max_depth=15 \n",
      "[CV]  n_estimators=1100, min_samples_split=10, min_samples_leaf=2, max_features=sqrt, max_depth=15, total=   7.5s\n",
      "[CV] n_estimators=1100, min_samples_split=10, min_samples_leaf=2, max_features=sqrt, max_depth=15 \n",
      "[CV]  n_estimators=1100, min_samples_split=10, min_samples_leaf=2, max_features=sqrt, max_depth=15, total=   7.9s\n",
      "[CV] n_estimators=300, min_samples_split=100, min_samples_leaf=5, max_features=auto, max_depth=15 \n",
      "[CV]  n_estimators=300, min_samples_split=100, min_samples_leaf=5, max_features=auto, max_depth=15, total=   2.8s\n",
      "[CV] n_estimators=300, min_samples_split=100, min_samples_leaf=5, max_features=auto, max_depth=15 \n",
      "[CV]  n_estimators=300, min_samples_split=100, min_samples_leaf=5, max_features=auto, max_depth=15, total=   2.8s\n",
      "[CV] n_estimators=300, min_samples_split=100, min_samples_leaf=5, max_features=auto, max_depth=15 \n",
      "[CV]  n_estimators=300, min_samples_split=100, min_samples_leaf=5, max_features=auto, max_depth=15, total=   2.9s\n",
      "[CV] n_estimators=300, min_samples_split=100, min_samples_leaf=5, max_features=auto, max_depth=15 \n",
      "[CV]  n_estimators=300, min_samples_split=100, min_samples_leaf=5, max_features=auto, max_depth=15, total=   2.9s\n",
      "[CV] n_estimators=300, min_samples_split=100, min_samples_leaf=5, max_features=auto, max_depth=15 \n",
      "[CV]  n_estimators=300, min_samples_split=100, min_samples_leaf=5, max_features=auto, max_depth=15, total=   3.1s\n",
      "[CV] n_estimators=400, min_samples_split=5, min_samples_leaf=5, max_features=auto, max_depth=15 \n",
      "[CV]  n_estimators=400, min_samples_split=5, min_samples_leaf=5, max_features=auto, max_depth=15, total=   6.2s\n",
      "[CV] n_estimators=400, min_samples_split=5, min_samples_leaf=5, max_features=auto, max_depth=15 \n",
      "[CV]  n_estimators=400, min_samples_split=5, min_samples_leaf=5, max_features=auto, max_depth=15, total=   5.9s\n",
      "[CV] n_estimators=400, min_samples_split=5, min_samples_leaf=5, max_features=auto, max_depth=15 \n",
      "[CV]  n_estimators=400, min_samples_split=5, min_samples_leaf=5, max_features=auto, max_depth=15, total=   5.4s\n",
      "[CV] n_estimators=400, min_samples_split=5, min_samples_leaf=5, max_features=auto, max_depth=15 \n",
      "[CV]  n_estimators=400, min_samples_split=5, min_samples_leaf=5, max_features=auto, max_depth=15, total=   6.2s\n",
      "[CV] n_estimators=400, min_samples_split=5, min_samples_leaf=5, max_features=auto, max_depth=15 \n",
      "[CV]  n_estimators=400, min_samples_split=5, min_samples_leaf=5, max_features=auto, max_depth=15, total=   6.4s\n",
      "[CV] n_estimators=700, min_samples_split=5, min_samples_leaf=10, max_features=auto, max_depth=20 \n",
      "[CV]  n_estimators=700, min_samples_split=5, min_samples_leaf=10, max_features=auto, max_depth=20, total=   8.7s\n",
      "[CV] n_estimators=700, min_samples_split=5, min_samples_leaf=10, max_features=auto, max_depth=20 \n",
      "[CV]  n_estimators=700, min_samples_split=5, min_samples_leaf=10, max_features=auto, max_depth=20, total=   8.6s\n",
      "[CV] n_estimators=700, min_samples_split=5, min_samples_leaf=10, max_features=auto, max_depth=20 \n",
      "[CV]  n_estimators=700, min_samples_split=5, min_samples_leaf=10, max_features=auto, max_depth=20, total=   9.6s\n",
      "[CV] n_estimators=700, min_samples_split=5, min_samples_leaf=10, max_features=auto, max_depth=20 \n",
      "[CV]  n_estimators=700, min_samples_split=5, min_samples_leaf=10, max_features=auto, max_depth=20, total=   8.5s\n",
      "[CV] n_estimators=700, min_samples_split=5, min_samples_leaf=10, max_features=auto, max_depth=20 \n",
      "[CV]  n_estimators=700, min_samples_split=5, min_samples_leaf=10, max_features=auto, max_depth=20, total=   9.1s\n",
      "[CV] n_estimators=1000, min_samples_split=2, min_samples_leaf=1, max_features=sqrt, max_depth=25 \n",
      "[CV]  n_estimators=1000, min_samples_split=2, min_samples_leaf=1, max_features=sqrt, max_depth=25, total=  11.3s\n",
      "[CV] n_estimators=1000, min_samples_split=2, min_samples_leaf=1, max_features=sqrt, max_depth=25 \n",
      "[CV]  n_estimators=1000, min_samples_split=2, min_samples_leaf=1, max_features=sqrt, max_depth=25, total=  10.8s\n",
      "[CV] n_estimators=1000, min_samples_split=2, min_samples_leaf=1, max_features=sqrt, max_depth=25 \n",
      "[CV]  n_estimators=1000, min_samples_split=2, min_samples_leaf=1, max_features=sqrt, max_depth=25, total=  11.2s\n",
      "[CV] n_estimators=1000, min_samples_split=2, min_samples_leaf=1, max_features=sqrt, max_depth=25 \n",
      "[CV]  n_estimators=1000, min_samples_split=2, min_samples_leaf=1, max_features=sqrt, max_depth=25, total=  10.9s\n",
      "[CV] n_estimators=1000, min_samples_split=2, min_samples_leaf=1, max_features=sqrt, max_depth=25 \n",
      "[CV]  n_estimators=1000, min_samples_split=2, min_samples_leaf=1, max_features=sqrt, max_depth=25, total=  11.0s\n",
      "[CV] n_estimators=1100, min_samples_split=15, min_samples_leaf=10, max_features=sqrt, max_depth=5 \n",
      "[CV]  n_estimators=1100, min_samples_split=15, min_samples_leaf=10, max_features=sqrt, max_depth=5, total=   4.3s\n",
      "[CV] n_estimators=1100, min_samples_split=15, min_samples_leaf=10, max_features=sqrt, max_depth=5 \n",
      "[CV]  n_estimators=1100, min_samples_split=15, min_samples_leaf=10, max_features=sqrt, max_depth=5, total=   4.8s\n",
      "[CV] n_estimators=1100, min_samples_split=15, min_samples_leaf=10, max_features=sqrt, max_depth=5 \n",
      "[CV]  n_estimators=1100, min_samples_split=15, min_samples_leaf=10, max_features=sqrt, max_depth=5, total=   4.9s\n",
      "[CV] n_estimators=1100, min_samples_split=15, min_samples_leaf=10, max_features=sqrt, max_depth=5 \n",
      "[CV]  n_estimators=1100, min_samples_split=15, min_samples_leaf=10, max_features=sqrt, max_depth=5, total=   4.8s\n",
      "[CV] n_estimators=1100, min_samples_split=15, min_samples_leaf=10, max_features=sqrt, max_depth=5 \n",
      "[CV]  n_estimators=1100, min_samples_split=15, min_samples_leaf=10, max_features=sqrt, max_depth=5, total=   5.5s\n",
      "[CV] n_estimators=300, min_samples_split=15, min_samples_leaf=1, max_features=sqrt, max_depth=15 \n",
      "[CV]  n_estimators=300, min_samples_split=15, min_samples_leaf=1, max_features=sqrt, max_depth=15, total=   1.9s\n",
      "[CV] n_estimators=300, min_samples_split=15, min_samples_leaf=1, max_features=sqrt, max_depth=15 \n",
      "[CV]  n_estimators=300, min_samples_split=15, min_samples_leaf=1, max_features=sqrt, max_depth=15, total=   2.1s\n",
      "[CV] n_estimators=300, min_samples_split=15, min_samples_leaf=1, max_features=sqrt, max_depth=15 \n",
      "[CV]  n_estimators=300, min_samples_split=15, min_samples_leaf=1, max_features=sqrt, max_depth=15, total=   2.1s\n",
      "[CV] n_estimators=300, min_samples_split=15, min_samples_leaf=1, max_features=sqrt, max_depth=15 \n",
      "[CV]  n_estimators=300, min_samples_split=15, min_samples_leaf=1, max_features=sqrt, max_depth=15, total=   2.0s\n",
      "[CV] n_estimators=300, min_samples_split=15, min_samples_leaf=1, max_features=sqrt, max_depth=15 \n",
      "[CV]  n_estimators=300, min_samples_split=15, min_samples_leaf=1, max_features=sqrt, max_depth=15, total=   1.7s\n",
      "[CV] n_estimators=700, min_samples_split=10, min_samples_leaf=2, max_features=sqrt, max_depth=5 \n"
     ]
    },
    {
     "name": "stdout",
     "output_type": "stream",
     "text": [
      "[CV]  n_estimators=700, min_samples_split=10, min_samples_leaf=2, max_features=sqrt, max_depth=5, total=   2.6s\n",
      "[CV] n_estimators=700, min_samples_split=10, min_samples_leaf=2, max_features=sqrt, max_depth=5 \n",
      "[CV]  n_estimators=700, min_samples_split=10, min_samples_leaf=2, max_features=sqrt, max_depth=5, total=   3.0s\n",
      "[CV] n_estimators=700, min_samples_split=10, min_samples_leaf=2, max_features=sqrt, max_depth=5 \n",
      "[CV]  n_estimators=700, min_samples_split=10, min_samples_leaf=2, max_features=sqrt, max_depth=5, total=   2.9s\n",
      "[CV] n_estimators=700, min_samples_split=10, min_samples_leaf=2, max_features=sqrt, max_depth=5 \n",
      "[CV]  n_estimators=700, min_samples_split=10, min_samples_leaf=2, max_features=sqrt, max_depth=5, total=   2.7s\n",
      "[CV] n_estimators=700, min_samples_split=10, min_samples_leaf=2, max_features=sqrt, max_depth=5 \n",
      "[CV]  n_estimators=700, min_samples_split=10, min_samples_leaf=2, max_features=sqrt, max_depth=5, total=   2.8s\n",
      "[CV] n_estimators=700, min_samples_split=15, min_samples_leaf=1, max_features=auto, max_depth=20 \n",
      "[CV]  n_estimators=700, min_samples_split=15, min_samples_leaf=1, max_features=auto, max_depth=20, total=   9.8s\n",
      "[CV] n_estimators=700, min_samples_split=15, min_samples_leaf=1, max_features=auto, max_depth=20 \n",
      "[CV]  n_estimators=700, min_samples_split=15, min_samples_leaf=1, max_features=auto, max_depth=20, total=   9.9s\n",
      "[CV] n_estimators=700, min_samples_split=15, min_samples_leaf=1, max_features=auto, max_depth=20 \n",
      "[CV]  n_estimators=700, min_samples_split=15, min_samples_leaf=1, max_features=auto, max_depth=20, total=   9.3s\n",
      "[CV] n_estimators=700, min_samples_split=15, min_samples_leaf=1, max_features=auto, max_depth=20 \n",
      "[CV]  n_estimators=700, min_samples_split=15, min_samples_leaf=1, max_features=auto, max_depth=20, total=   9.2s\n",
      "[CV] n_estimators=700, min_samples_split=15, min_samples_leaf=1, max_features=auto, max_depth=20 \n",
      "[CV]  n_estimators=700, min_samples_split=15, min_samples_leaf=1, max_features=auto, max_depth=20, total=   9.1s\n"
     ]
    },
    {
     "name": "stderr",
     "output_type": "stream",
     "text": [
      "[Parallel(n_jobs=1)]: Done  50 out of  50 | elapsed:  5.1min finished\n"
     ]
    },
    {
     "data": {
      "text/plain": [
       "RandomizedSearchCV(cv=5, estimator=RandomForestRegressor(), n_jobs=1,\n",
       "                   param_distributions={'max_depth': [5, 10, 15, 20, 25, 30],\n",
       "                                        'max_features': ['auto', 'sqrt'],\n",
       "                                        'min_samples_leaf': [1, 2, 5, 10],\n",
       "                                        'min_samples_split': [2, 5, 10, 15,\n",
       "                                                              100],\n",
       "                                        'n_estimators': [100, 200, 300, 400,\n",
       "                                                         500, 600, 700, 800,\n",
       "                                                         900, 1000, 1100,\n",
       "                                                         1200]},\n",
       "                   random_state=42, scoring='neg_mean_squared_error',\n",
       "                   verbose=2)"
      ]
     },
     "execution_count": 95,
     "metadata": {},
     "output_type": "execute_result"
    }
   ],
   "source": [
    "rf_random.fit(X_train,y_train)"
   ]
  },
  {
   "cell_type": "code",
   "execution_count": 96,
   "id": "8c2103a1",
   "metadata": {},
   "outputs": [
    {
     "data": {
      "text/plain": [
       "{'n_estimators': 1000,\n",
       " 'min_samples_split': 2,\n",
       " 'min_samples_leaf': 1,\n",
       " 'max_features': 'sqrt',\n",
       " 'max_depth': 25}"
      ]
     },
     "execution_count": 96,
     "metadata": {},
     "output_type": "execute_result"
    }
   ],
   "source": [
    "rf_random.best_params_"
   ]
  },
  {
   "cell_type": "code",
   "execution_count": 97,
   "id": "84ca1a6a",
   "metadata": {},
   "outputs": [],
   "source": [
    "predictions=rf_random.predict(X_test)"
   ]
  },
  {
   "cell_type": "code",
   "execution_count": 98,
   "id": "bcdb993f",
   "metadata": {},
   "outputs": [
    {
     "name": "stderr",
     "output_type": "stream",
     "text": [
      "C:\\Users\\Sivethi\\anaconda3\\lib\\site-packages\\seaborn\\distributions.py:2557: FutureWarning: `distplot` is a deprecated function and will be removed in a future version. Please adapt your code to use either `displot` (a figure-level function with similar flexibility) or `histplot` (an axes-level function for histograms).\n",
      "  warnings.warn(msg, FutureWarning)\n"
     ]
    },
    {
     "data": {
      "text/plain": [
       "<AxesSubplot:xlabel='SALES_PRICE', ylabel='Density'>"
      ]
     },
     "execution_count": 98,
     "metadata": {},
     "output_type": "execute_result"
    },
    {
     "data": {
      "image/png": "[encoded data removed]",
      "text/plain": [
       "<Figure size 432x288 with 1 Axes>"
      ]
     },
     "metadata": {
      "needs_background": "light"
     },
     "output_type": "display_data"
    }
   ],
   "source": [
    "sns.distplot(y_test-predictions)"
   ]
  },
  {
   "cell_type": "code",
   "execution_count": 99,
   "id": "5f810e0c",
   "metadata": {},
   "outputs": [
    {
     "data": {
      "text/plain": [
       "<matplotlib.collections.PathCollection at 0x11946898>"
      ]
     },
     "execution_count": 99,
     "metadata": {},
     "output_type": "execute_result"
    },
    {
     "data": {
      "image/png": "[encoded data removed]",
      "text/plain": [
       "<Figure size 432x288 with 1 Axes>"
      ]
     },
     "metadata": {
      "needs_background": "light"
     },
     "output_type": "display_data"
    }
   ],
   "source": [
    "plt.scatter(y_test,predictions)"
   ]
  },
  {
   "cell_type": "code",
   "execution_count": 100,
   "id": "ab50994a",
   "metadata": {},
   "outputs": [
    {
     "name": "stdout",
     "output_type": "stream",
     "text": [
      "MAE: 730940.0171472105\n",
      "MSE: 818138039526.2677\n",
      "RMSE: 904509.833847188\n",
      "R2- SCORE: 0.939507792162896\n"
     ]
    }
   ],
   "source": [
    "from sklearn import metrics\n",
    "print('MAE:', metrics.mean_absolute_error(y_test, predictions))\n",
    "print('MSE:', metrics.mean_squared_error(y_test, predictions))\n",
    "print('RMSE:', np.sqrt(metrics.mean_squared_error(y_test, predictions)))\n",
    "print('R2- SCORE:', metrics.r2_score(y_test,predictions))"
   ]
  },
  {
   "cell_type": "markdown",
   "id": "2e41bd25",
   "metadata": {},
   "source": [
    "Conclusion:"
   ]
  },
  {
   "cell_type": "markdown",
   "id": "8ba90818",
   "metadata": {},
   "source": [
    "1.The house's sales price increased depends on the features like number of bedrooms,no of bathrooms, and location."
   ]
  },
  {
   "cell_type": "markdown",
   "id": "2735f72e",
   "metadata": {},
   "source": [
    "  2.Low cost homes are less expensive because of the lack of features."
   ]
  },
  {
   "cell_type": "markdown",
   "id": "cdc318e5",
   "metadata": {},
   "source": [
    "3.Also, the selling price is fixed according to the location of the houses from the important areas"
   ]
  },
  {
   "cell_type": "markdown",
   "id": "bddce7cf",
   "metadata": {},
   "source": [
    "4.If houses are located a short distance from important areas the selling price will be higher."
   ]
  },
  {
   "cell_type": "code",
   "execution_count": null,
   "id": "3ccf9561",
   "metadata": {},
   "outputs": [],
   "source": []
  }
 ],
 "metadata": {
  "kernelspec": {
   "display_name": "Python 3",
   "language": "python",
   "name": "python3"
  },
  "language_info": {
   "codemirror_mode": {
    "name": "ipython",
    "version": 3
   },
   "file_extension": ".py",
   "mimetype": "text/x-python",
   "name": "python",
   "nbconvert_exporter": "python",
   "pygments_lexer": "ipython3",
   "version": "3.8.8"
  }
 },
 "nbformat": 4,
 "nbformat_minor": 5
}
